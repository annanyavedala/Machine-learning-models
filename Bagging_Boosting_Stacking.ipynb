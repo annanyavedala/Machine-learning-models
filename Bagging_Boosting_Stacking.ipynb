{
  "nbformat": 4,
  "nbformat_minor": 0,
  "metadata": {
    "colab": {
      "name": "Bagging_Boosting_Stacking.ipynb",
      "provenance": [],
      "collapsed_sections": []
    },
    "kernelspec": {
      "name": "python3",
      "display_name": "Python 3"
    }
  },
  "cells": [
    {
      "cell_type": "code",
      "metadata": {
        "id": "IuQ_K1swy-Ak",
        "colab_type": "code",
        "colab": {}
      },
      "source": [
        "#Importing the base level libraries\n",
        "import pandas as pd\n",
        "import numpy as np\n",
        "import sklearn"
      ],
      "execution_count": 1,
      "outputs": []
    },
    {
      "cell_type": "code",
      "metadata": {
        "id": "VHOYTSgX_2HJ",
        "colab_type": "code",
        "colab": {}
      },
      "source": [
        ""
      ],
      "execution_count": null,
      "outputs": []
    },
    {
      "cell_type": "code",
      "metadata": {
        "id": "aPU8ND_TzG6I",
        "colab_type": "code",
        "colab": {
          "base_uri": "https://localhost:8080/",
          "height": 439
        },
        "outputId": "609fe97a-5cf2-445e-c565-5f2a15f2d29d"
      },
      "source": [
        "#Importing required data\n",
        "df= pd.read_csv('sky.csv')\n",
        "print(df)"
      ],
      "execution_count": 4,
      "outputs": [
        {
          "output_type": "execute_result",
          "data": {
            "text/html": [
              "<div>\n",
              "<style scoped>\n",
              "    .dataframe tbody tr th:only-of-type {\n",
              "        vertical-align: middle;\n",
              "    }\n",
              "\n",
              "    .dataframe tbody tr th {\n",
              "        vertical-align: top;\n",
              "    }\n",
              "\n",
              "    .dataframe thead th {\n",
              "        text-align: right;\n",
              "    }\n",
              "</style>\n",
              "<table border=\"1\" class=\"dataframe\">\n",
              "  <thead>\n",
              "    <tr style=\"text-align: right;\">\n",
              "      <th></th>\n",
              "      <th>objid</th>\n",
              "      <th>ra</th>\n",
              "      <th>dec</th>\n",
              "      <th>u</th>\n",
              "      <th>g</th>\n",
              "      <th>r</th>\n",
              "      <th>i</th>\n",
              "      <th>z</th>\n",
              "      <th>run</th>\n",
              "      <th>rerun</th>\n",
              "      <th>camcol</th>\n",
              "      <th>field</th>\n",
              "      <th>specobjid</th>\n",
              "      <th>class</th>\n",
              "      <th>redshift</th>\n",
              "      <th>plate</th>\n",
              "      <th>mjd</th>\n",
              "      <th>fiberid</th>\n",
              "    </tr>\n",
              "  </thead>\n",
              "  <tbody>\n",
              "    <tr>\n",
              "      <th>0</th>\n",
              "      <td>1.237650e+18</td>\n",
              "      <td>183.531326</td>\n",
              "      <td>0.089693</td>\n",
              "      <td>19.47406</td>\n",
              "      <td>17.04240</td>\n",
              "      <td>15.94699</td>\n",
              "      <td>15.50342</td>\n",
              "      <td>15.22531</td>\n",
              "      <td>752</td>\n",
              "      <td>301</td>\n",
              "      <td>4</td>\n",
              "      <td>267</td>\n",
              "      <td>3.722360e+18</td>\n",
              "      <td>STAR</td>\n",
              "      <td>-0.000009</td>\n",
              "      <td>3306</td>\n",
              "      <td>54922</td>\n",
              "      <td>491</td>\n",
              "    </tr>\n",
              "    <tr>\n",
              "      <th>1</th>\n",
              "      <td>1.237650e+18</td>\n",
              "      <td>183.598371</td>\n",
              "      <td>0.135285</td>\n",
              "      <td>18.66280</td>\n",
              "      <td>17.21449</td>\n",
              "      <td>16.67637</td>\n",
              "      <td>16.48922</td>\n",
              "      <td>16.39150</td>\n",
              "      <td>752</td>\n",
              "      <td>301</td>\n",
              "      <td>4</td>\n",
              "      <td>267</td>\n",
              "      <td>3.638140e+17</td>\n",
              "      <td>STAR</td>\n",
              "      <td>-0.000055</td>\n",
              "      <td>323</td>\n",
              "      <td>51615</td>\n",
              "      <td>541</td>\n",
              "    </tr>\n",
              "    <tr>\n",
              "      <th>2</th>\n",
              "      <td>1.237650e+18</td>\n",
              "      <td>183.680207</td>\n",
              "      <td>0.126185</td>\n",
              "      <td>19.38298</td>\n",
              "      <td>18.19169</td>\n",
              "      <td>17.47428</td>\n",
              "      <td>17.08732</td>\n",
              "      <td>16.80125</td>\n",
              "      <td>752</td>\n",
              "      <td>301</td>\n",
              "      <td>4</td>\n",
              "      <td>268</td>\n",
              "      <td>3.232740e+17</td>\n",
              "      <td>GALAXY</td>\n",
              "      <td>0.123111</td>\n",
              "      <td>287</td>\n",
              "      <td>52023</td>\n",
              "      <td>513</td>\n",
              "    </tr>\n",
              "    <tr>\n",
              "      <th>3</th>\n",
              "      <td>1.237650e+18</td>\n",
              "      <td>183.870529</td>\n",
              "      <td>0.049911</td>\n",
              "      <td>17.76536</td>\n",
              "      <td>16.60272</td>\n",
              "      <td>16.16116</td>\n",
              "      <td>15.98233</td>\n",
              "      <td>15.90438</td>\n",
              "      <td>752</td>\n",
              "      <td>301</td>\n",
              "      <td>4</td>\n",
              "      <td>269</td>\n",
              "      <td>3.722370e+18</td>\n",
              "      <td>STAR</td>\n",
              "      <td>-0.000111</td>\n",
              "      <td>3306</td>\n",
              "      <td>54922</td>\n",
              "      <td>510</td>\n",
              "    </tr>\n",
              "    <tr>\n",
              "      <th>4</th>\n",
              "      <td>1.237650e+18</td>\n",
              "      <td>183.883288</td>\n",
              "      <td>0.102557</td>\n",
              "      <td>17.55025</td>\n",
              "      <td>16.26342</td>\n",
              "      <td>16.43869</td>\n",
              "      <td>16.55492</td>\n",
              "      <td>16.61326</td>\n",
              "      <td>752</td>\n",
              "      <td>301</td>\n",
              "      <td>4</td>\n",
              "      <td>269</td>\n",
              "      <td>3.722370e+18</td>\n",
              "      <td>STAR</td>\n",
              "      <td>0.000590</td>\n",
              "      <td>3306</td>\n",
              "      <td>54922</td>\n",
              "      <td>512</td>\n",
              "    </tr>\n",
              "    <tr>\n",
              "      <th>...</th>\n",
              "      <td>...</td>\n",
              "      <td>...</td>\n",
              "      <td>...</td>\n",
              "      <td>...</td>\n",
              "      <td>...</td>\n",
              "      <td>...</td>\n",
              "      <td>...</td>\n",
              "      <td>...</td>\n",
              "      <td>...</td>\n",
              "      <td>...</td>\n",
              "      <td>...</td>\n",
              "      <td>...</td>\n",
              "      <td>...</td>\n",
              "      <td>...</td>\n",
              "      <td>...</td>\n",
              "      <td>...</td>\n",
              "      <td>...</td>\n",
              "      <td>...</td>\n",
              "    </tr>\n",
              "    <tr>\n",
              "      <th>9995</th>\n",
              "      <td>1.237650e+18</td>\n",
              "      <td>131.316413</td>\n",
              "      <td>51.539547</td>\n",
              "      <td>18.81777</td>\n",
              "      <td>17.47053</td>\n",
              "      <td>16.91508</td>\n",
              "      <td>16.68305</td>\n",
              "      <td>16.50570</td>\n",
              "      <td>1345</td>\n",
              "      <td>301</td>\n",
              "      <td>3</td>\n",
              "      <td>161</td>\n",
              "      <td>5.033450e+17</td>\n",
              "      <td>GALAXY</td>\n",
              "      <td>0.027583</td>\n",
              "      <td>447</td>\n",
              "      <td>51877</td>\n",
              "      <td>246</td>\n",
              "    </tr>\n",
              "    <tr>\n",
              "      <th>9996</th>\n",
              "      <td>1.237650e+18</td>\n",
              "      <td>131.306083</td>\n",
              "      <td>51.671341</td>\n",
              "      <td>18.27255</td>\n",
              "      <td>17.43849</td>\n",
              "      <td>17.07692</td>\n",
              "      <td>16.71661</td>\n",
              "      <td>16.69897</td>\n",
              "      <td>1345</td>\n",
              "      <td>301</td>\n",
              "      <td>3</td>\n",
              "      <td>162</td>\n",
              "      <td>5.033400e+17</td>\n",
              "      <td>GALAXY</td>\n",
              "      <td>0.117772</td>\n",
              "      <td>447</td>\n",
              "      <td>51877</td>\n",
              "      <td>228</td>\n",
              "    </tr>\n",
              "    <tr>\n",
              "      <th>9997</th>\n",
              "      <td>1.237650e+18</td>\n",
              "      <td>131.552562</td>\n",
              "      <td>51.666986</td>\n",
              "      <td>18.75818</td>\n",
              "      <td>17.77784</td>\n",
              "      <td>17.51872</td>\n",
              "      <td>17.43302</td>\n",
              "      <td>17.42048</td>\n",
              "      <td>1345</td>\n",
              "      <td>301</td>\n",
              "      <td>3</td>\n",
              "      <td>162</td>\n",
              "      <td>8.222620e+18</td>\n",
              "      <td>STAR</td>\n",
              "      <td>-0.000402</td>\n",
              "      <td>7303</td>\n",
              "      <td>57013</td>\n",
              "      <td>622</td>\n",
              "    </tr>\n",
              "    <tr>\n",
              "      <th>9998</th>\n",
              "      <td>1.237650e+18</td>\n",
              "      <td>131.477151</td>\n",
              "      <td>51.753068</td>\n",
              "      <td>18.88287</td>\n",
              "      <td>17.91068</td>\n",
              "      <td>17.53152</td>\n",
              "      <td>17.36284</td>\n",
              "      <td>17.13988</td>\n",
              "      <td>1345</td>\n",
              "      <td>301</td>\n",
              "      <td>3</td>\n",
              "      <td>163</td>\n",
              "      <td>5.033400e+17</td>\n",
              "      <td>GALAXY</td>\n",
              "      <td>0.014019</td>\n",
              "      <td>447</td>\n",
              "      <td>51877</td>\n",
              "      <td>229</td>\n",
              "    </tr>\n",
              "    <tr>\n",
              "      <th>9999</th>\n",
              "      <td>1.237650e+18</td>\n",
              "      <td>131.665012</td>\n",
              "      <td>51.805307</td>\n",
              "      <td>19.27586</td>\n",
              "      <td>17.37829</td>\n",
              "      <td>16.30542</td>\n",
              "      <td>15.83548</td>\n",
              "      <td>15.50588</td>\n",
              "      <td>1345</td>\n",
              "      <td>301</td>\n",
              "      <td>3</td>\n",
              "      <td>163</td>\n",
              "      <td>5.033410e+17</td>\n",
              "      <td>GALAXY</td>\n",
              "      <td>0.118417</td>\n",
              "      <td>447</td>\n",
              "      <td>51877</td>\n",
              "      <td>233</td>\n",
              "    </tr>\n",
              "  </tbody>\n",
              "</table>\n",
              "<p>10000 rows × 18 columns</p>\n",
              "</div>"
            ],
            "text/plain": [
              "             objid          ra        dec  ...  plate    mjd  fiberid\n",
              "0     1.237650e+18  183.531326   0.089693  ...   3306  54922      491\n",
              "1     1.237650e+18  183.598371   0.135285  ...    323  51615      541\n",
              "2     1.237650e+18  183.680207   0.126185  ...    287  52023      513\n",
              "3     1.237650e+18  183.870529   0.049911  ...   3306  54922      510\n",
              "4     1.237650e+18  183.883288   0.102557  ...   3306  54922      512\n",
              "...            ...         ...        ...  ...    ...    ...      ...\n",
              "9995  1.237650e+18  131.316413  51.539547  ...    447  51877      246\n",
              "9996  1.237650e+18  131.306083  51.671341  ...    447  51877      228\n",
              "9997  1.237650e+18  131.552562  51.666986  ...   7303  57013      622\n",
              "9998  1.237650e+18  131.477151  51.753068  ...    447  51877      229\n",
              "9999  1.237650e+18  131.665012  51.805307  ...    447  51877      233\n",
              "\n",
              "[10000 rows x 18 columns]"
            ]
          },
          "metadata": {
            "tags": []
          },
          "execution_count": 4
        }
      ]
    },
    {
      "cell_type": "code",
      "metadata": {
        "id": "xYHKWt5CzW5W",
        "colab_type": "code",
        "colab": {
          "base_uri": "https://localhost:8080/",
          "height": 323
        },
        "outputId": "f47303e7-166c-4276-bb67-02f69453065d"
      },
      "source": [
        "#Listing out the unique columns in the dataset\n",
        "m= list(df.columns.unique())\n",
        "m"
      ],
      "execution_count": 16,
      "outputs": [
        {
          "output_type": "execute_result",
          "data": {
            "text/plain": [
              "['objid',\n",
              " 'ra',\n",
              " 'dec',\n",
              " 'u',\n",
              " 'g',\n",
              " 'r',\n",
              " 'i',\n",
              " 'z',\n",
              " 'run',\n",
              " 'rerun',\n",
              " 'camcol',\n",
              " 'field',\n",
              " 'specobjid',\n",
              " 'class',\n",
              " 'redshift',\n",
              " 'plate',\n",
              " 'mjd',\n",
              " 'fiberid']"
            ]
          },
          "metadata": {
            "tags": []
          },
          "execution_count": 16
        }
      ]
    },
    {
      "cell_type": "markdown",
      "metadata": {
        "id": "i6qXtAKT-r_K",
        "colab_type": "text"
      },
      "source": [
        "Converting the class column into required labels."
      ]
    },
    {
      "cell_type": "code",
      "metadata": {
        "id": "Y4ihp4yuzjdL",
        "colab_type": "code",
        "colab": {
          "base_uri": "https://localhost:8080/",
          "height": 34
        },
        "outputId": "f1f298f7-b63c-48ec-fbcd-b32d38cfeb9e"
      },
      "source": [
        "df['class'].unique()"
      ],
      "execution_count": 14,
      "outputs": [
        {
          "output_type": "execute_result",
          "data": {
            "text/plain": [
              "array(['STAR', 'GALAXY', 'QSO'], dtype=object)"
            ]
          },
          "metadata": {
            "tags": []
          },
          "execution_count": 14
        }
      ]
    },
    {
      "cell_type": "code",
      "metadata": {
        "id": "DcZDEnTy0sBN",
        "colab_type": "code",
        "colab": {}
      },
      "source": [
        "bool_map= dict(zip(['STAR', 'GALAXY', 'QSO'], range(0,3)))"
      ],
      "execution_count": 17,
      "outputs": []
    },
    {
      "cell_type": "code",
      "metadata": {
        "id": "6mVAB2MV1Rrj",
        "colab_type": "code",
        "colab": {
          "base_uri": "https://localhost:8080/",
          "height": 340
        },
        "outputId": "d707a137-5cf8-4043-fc30-33ed1fbb9890"
      },
      "source": [
        "df.dtypes"
      ],
      "execution_count": 18,
      "outputs": [
        {
          "output_type": "execute_result",
          "data": {
            "text/plain": [
              "objid        float64\n",
              "ra           float64\n",
              "dec          float64\n",
              "u            float64\n",
              "g            float64\n",
              "r            float64\n",
              "i            float64\n",
              "z            float64\n",
              "run            int64\n",
              "rerun          int64\n",
              "camcol         int64\n",
              "field          int64\n",
              "specobjid    float64\n",
              "class         object\n",
              "redshift     float64\n",
              "plate          int64\n",
              "mjd            int64\n",
              "fiberid        int64\n",
              "dtype: object"
            ]
          },
          "metadata": {
            "tags": []
          },
          "execution_count": 18
        }
      ]
    },
    {
      "cell_type": "code",
      "metadata": {
        "id": "PwNHSRqB1XvQ",
        "colab_type": "code",
        "colab": {}
      },
      "source": [
        "for i in zip(df.dtypes.index, df.dtypes):\n",
        "  if str(i[0])=='class':\n",
        "    df[i[0]]= df[i[0]].map(bool_map)"
      ],
      "execution_count": 21,
      "outputs": []
    },
    {
      "cell_type": "code",
      "metadata": {
        "id": "KV-prExZ18_6",
        "colab_type": "code",
        "colab": {
          "base_uri": "https://localhost:8080/",
          "height": 162
        },
        "outputId": "da9676d8-b767-4c9c-dfa2-55330af08d5d"
      },
      "source": [
        "df.head(n=3)"
      ],
      "execution_count": 22,
      "outputs": [
        {
          "output_type": "execute_result",
          "data": {
            "text/html": [
              "<div>\n",
              "<style scoped>\n",
              "    .dataframe tbody tr th:only-of-type {\n",
              "        vertical-align: middle;\n",
              "    }\n",
              "\n",
              "    .dataframe tbody tr th {\n",
              "        vertical-align: top;\n",
              "    }\n",
              "\n",
              "    .dataframe thead th {\n",
              "        text-align: right;\n",
              "    }\n",
              "</style>\n",
              "<table border=\"1\" class=\"dataframe\">\n",
              "  <thead>\n",
              "    <tr style=\"text-align: right;\">\n",
              "      <th></th>\n",
              "      <th>objid</th>\n",
              "      <th>ra</th>\n",
              "      <th>dec</th>\n",
              "      <th>u</th>\n",
              "      <th>g</th>\n",
              "      <th>r</th>\n",
              "      <th>i</th>\n",
              "      <th>z</th>\n",
              "      <th>run</th>\n",
              "      <th>rerun</th>\n",
              "      <th>camcol</th>\n",
              "      <th>field</th>\n",
              "      <th>specobjid</th>\n",
              "      <th>class</th>\n",
              "      <th>redshift</th>\n",
              "      <th>plate</th>\n",
              "      <th>mjd</th>\n",
              "      <th>fiberid</th>\n",
              "    </tr>\n",
              "  </thead>\n",
              "  <tbody>\n",
              "    <tr>\n",
              "      <th>0</th>\n",
              "      <td>1.237650e+18</td>\n",
              "      <td>183.531326</td>\n",
              "      <td>0.089693</td>\n",
              "      <td>19.47406</td>\n",
              "      <td>17.04240</td>\n",
              "      <td>15.94699</td>\n",
              "      <td>15.50342</td>\n",
              "      <td>15.22531</td>\n",
              "      <td>752</td>\n",
              "      <td>301</td>\n",
              "      <td>4</td>\n",
              "      <td>267</td>\n",
              "      <td>3.722360e+18</td>\n",
              "      <td>0</td>\n",
              "      <td>-0.000009</td>\n",
              "      <td>3306</td>\n",
              "      <td>54922</td>\n",
              "      <td>491</td>\n",
              "    </tr>\n",
              "    <tr>\n",
              "      <th>1</th>\n",
              "      <td>1.237650e+18</td>\n",
              "      <td>183.598371</td>\n",
              "      <td>0.135285</td>\n",
              "      <td>18.66280</td>\n",
              "      <td>17.21449</td>\n",
              "      <td>16.67637</td>\n",
              "      <td>16.48922</td>\n",
              "      <td>16.39150</td>\n",
              "      <td>752</td>\n",
              "      <td>301</td>\n",
              "      <td>4</td>\n",
              "      <td>267</td>\n",
              "      <td>3.638140e+17</td>\n",
              "      <td>0</td>\n",
              "      <td>-0.000055</td>\n",
              "      <td>323</td>\n",
              "      <td>51615</td>\n",
              "      <td>541</td>\n",
              "    </tr>\n",
              "    <tr>\n",
              "      <th>2</th>\n",
              "      <td>1.237650e+18</td>\n",
              "      <td>183.680207</td>\n",
              "      <td>0.126185</td>\n",
              "      <td>19.38298</td>\n",
              "      <td>18.19169</td>\n",
              "      <td>17.47428</td>\n",
              "      <td>17.08732</td>\n",
              "      <td>16.80125</td>\n",
              "      <td>752</td>\n",
              "      <td>301</td>\n",
              "      <td>4</td>\n",
              "      <td>268</td>\n",
              "      <td>3.232740e+17</td>\n",
              "      <td>1</td>\n",
              "      <td>0.123111</td>\n",
              "      <td>287</td>\n",
              "      <td>52023</td>\n",
              "      <td>513</td>\n",
              "    </tr>\n",
              "  </tbody>\n",
              "</table>\n",
              "</div>"
            ],
            "text/plain": [
              "          objid          ra       dec  ...  plate    mjd  fiberid\n",
              "0  1.237650e+18  183.531326  0.089693  ...   3306  54922      491\n",
              "1  1.237650e+18  183.598371  0.135285  ...    323  51615      541\n",
              "2  1.237650e+18  183.680207  0.126185  ...    287  52023      513\n",
              "\n",
              "[3 rows x 18 columns]"
            ]
          },
          "metadata": {
            "tags": []
          },
          "execution_count": 22
        }
      ]
    },
    {
      "cell_type": "code",
      "metadata": {
        "id": "zkDcHpEy2BLc",
        "colab_type": "code",
        "colab": {
          "base_uri": "https://localhost:8080/",
          "height": 340
        },
        "outputId": "e1494055-acca-47b8-bbcb-2f20ddc1ae72"
      },
      "source": [
        "#Checking for null values\n",
        "df.isnull().any()"
      ],
      "execution_count": 31,
      "outputs": [
        {
          "output_type": "execute_result",
          "data": {
            "text/plain": [
              "objid        False\n",
              "ra           False\n",
              "dec          False\n",
              "u            False\n",
              "g            False\n",
              "r            False\n",
              "i            False\n",
              "z            False\n",
              "run          False\n",
              "rerun        False\n",
              "camcol       False\n",
              "field        False\n",
              "specobjid    False\n",
              "class        False\n",
              "redshift     False\n",
              "plate        False\n",
              "mjd          False\n",
              "fiberid      False\n",
              "dtype: bool"
            ]
          },
          "metadata": {
            "tags": []
          },
          "execution_count": 31
        }
      ]
    },
    {
      "cell_type": "code",
      "metadata": {
        "id": "YFXYv54E2Sfm",
        "colab_type": "code",
        "colab": {}
      },
      "source": [
        "#Assigning vaiables\n",
        "y = df['class'] \n",
        "X = df.drop(columns=['class'])"
      ],
      "execution_count": 37,
      "outputs": []
    },
    {
      "cell_type": "code",
      "metadata": {
        "id": "qVXyzSG629xY",
        "colab_type": "code",
        "colab": {
          "base_uri": "https://localhost:8080/",
          "height": 439
        },
        "outputId": "e3edacfe-3f9b-41ce-c060-0ae2bcd4ef95"
      },
      "source": [
        "X"
      ],
      "execution_count": 38,
      "outputs": [
        {
          "output_type": "execute_result",
          "data": {
            "text/html": [
              "<div>\n",
              "<style scoped>\n",
              "    .dataframe tbody tr th:only-of-type {\n",
              "        vertical-align: middle;\n",
              "    }\n",
              "\n",
              "    .dataframe tbody tr th {\n",
              "        vertical-align: top;\n",
              "    }\n",
              "\n",
              "    .dataframe thead th {\n",
              "        text-align: right;\n",
              "    }\n",
              "</style>\n",
              "<table border=\"1\" class=\"dataframe\">\n",
              "  <thead>\n",
              "    <tr style=\"text-align: right;\">\n",
              "      <th></th>\n",
              "      <th>objid</th>\n",
              "      <th>ra</th>\n",
              "      <th>dec</th>\n",
              "      <th>u</th>\n",
              "      <th>g</th>\n",
              "      <th>r</th>\n",
              "      <th>i</th>\n",
              "      <th>z</th>\n",
              "      <th>run</th>\n",
              "      <th>rerun</th>\n",
              "      <th>camcol</th>\n",
              "      <th>field</th>\n",
              "      <th>specobjid</th>\n",
              "      <th>redshift</th>\n",
              "      <th>plate</th>\n",
              "      <th>mjd</th>\n",
              "      <th>fiberid</th>\n",
              "    </tr>\n",
              "  </thead>\n",
              "  <tbody>\n",
              "    <tr>\n",
              "      <th>0</th>\n",
              "      <td>1.237650e+18</td>\n",
              "      <td>183.531326</td>\n",
              "      <td>0.089693</td>\n",
              "      <td>19.47406</td>\n",
              "      <td>17.04240</td>\n",
              "      <td>15.94699</td>\n",
              "      <td>15.50342</td>\n",
              "      <td>15.22531</td>\n",
              "      <td>752</td>\n",
              "      <td>301</td>\n",
              "      <td>4</td>\n",
              "      <td>267</td>\n",
              "      <td>3.722360e+18</td>\n",
              "      <td>-0.000009</td>\n",
              "      <td>3306</td>\n",
              "      <td>54922</td>\n",
              "      <td>491</td>\n",
              "    </tr>\n",
              "    <tr>\n",
              "      <th>1</th>\n",
              "      <td>1.237650e+18</td>\n",
              "      <td>183.598371</td>\n",
              "      <td>0.135285</td>\n",
              "      <td>18.66280</td>\n",
              "      <td>17.21449</td>\n",
              "      <td>16.67637</td>\n",
              "      <td>16.48922</td>\n",
              "      <td>16.39150</td>\n",
              "      <td>752</td>\n",
              "      <td>301</td>\n",
              "      <td>4</td>\n",
              "      <td>267</td>\n",
              "      <td>3.638140e+17</td>\n",
              "      <td>-0.000055</td>\n",
              "      <td>323</td>\n",
              "      <td>51615</td>\n",
              "      <td>541</td>\n",
              "    </tr>\n",
              "    <tr>\n",
              "      <th>2</th>\n",
              "      <td>1.237650e+18</td>\n",
              "      <td>183.680207</td>\n",
              "      <td>0.126185</td>\n",
              "      <td>19.38298</td>\n",
              "      <td>18.19169</td>\n",
              "      <td>17.47428</td>\n",
              "      <td>17.08732</td>\n",
              "      <td>16.80125</td>\n",
              "      <td>752</td>\n",
              "      <td>301</td>\n",
              "      <td>4</td>\n",
              "      <td>268</td>\n",
              "      <td>3.232740e+17</td>\n",
              "      <td>0.123111</td>\n",
              "      <td>287</td>\n",
              "      <td>52023</td>\n",
              "      <td>513</td>\n",
              "    </tr>\n",
              "    <tr>\n",
              "      <th>3</th>\n",
              "      <td>1.237650e+18</td>\n",
              "      <td>183.870529</td>\n",
              "      <td>0.049911</td>\n",
              "      <td>17.76536</td>\n",
              "      <td>16.60272</td>\n",
              "      <td>16.16116</td>\n",
              "      <td>15.98233</td>\n",
              "      <td>15.90438</td>\n",
              "      <td>752</td>\n",
              "      <td>301</td>\n",
              "      <td>4</td>\n",
              "      <td>269</td>\n",
              "      <td>3.722370e+18</td>\n",
              "      <td>-0.000111</td>\n",
              "      <td>3306</td>\n",
              "      <td>54922</td>\n",
              "      <td>510</td>\n",
              "    </tr>\n",
              "    <tr>\n",
              "      <th>4</th>\n",
              "      <td>1.237650e+18</td>\n",
              "      <td>183.883288</td>\n",
              "      <td>0.102557</td>\n",
              "      <td>17.55025</td>\n",
              "      <td>16.26342</td>\n",
              "      <td>16.43869</td>\n",
              "      <td>16.55492</td>\n",
              "      <td>16.61326</td>\n",
              "      <td>752</td>\n",
              "      <td>301</td>\n",
              "      <td>4</td>\n",
              "      <td>269</td>\n",
              "      <td>3.722370e+18</td>\n",
              "      <td>0.000590</td>\n",
              "      <td>3306</td>\n",
              "      <td>54922</td>\n",
              "      <td>512</td>\n",
              "    </tr>\n",
              "    <tr>\n",
              "      <th>...</th>\n",
              "      <td>...</td>\n",
              "      <td>...</td>\n",
              "      <td>...</td>\n",
              "      <td>...</td>\n",
              "      <td>...</td>\n",
              "      <td>...</td>\n",
              "      <td>...</td>\n",
              "      <td>...</td>\n",
              "      <td>...</td>\n",
              "      <td>...</td>\n",
              "      <td>...</td>\n",
              "      <td>...</td>\n",
              "      <td>...</td>\n",
              "      <td>...</td>\n",
              "      <td>...</td>\n",
              "      <td>...</td>\n",
              "      <td>...</td>\n",
              "    </tr>\n",
              "    <tr>\n",
              "      <th>9995</th>\n",
              "      <td>1.237650e+18</td>\n",
              "      <td>131.316413</td>\n",
              "      <td>51.539547</td>\n",
              "      <td>18.81777</td>\n",
              "      <td>17.47053</td>\n",
              "      <td>16.91508</td>\n",
              "      <td>16.68305</td>\n",
              "      <td>16.50570</td>\n",
              "      <td>1345</td>\n",
              "      <td>301</td>\n",
              "      <td>3</td>\n",
              "      <td>161</td>\n",
              "      <td>5.033450e+17</td>\n",
              "      <td>0.027583</td>\n",
              "      <td>447</td>\n",
              "      <td>51877</td>\n",
              "      <td>246</td>\n",
              "    </tr>\n",
              "    <tr>\n",
              "      <th>9996</th>\n",
              "      <td>1.237650e+18</td>\n",
              "      <td>131.306083</td>\n",
              "      <td>51.671341</td>\n",
              "      <td>18.27255</td>\n",
              "      <td>17.43849</td>\n",
              "      <td>17.07692</td>\n",
              "      <td>16.71661</td>\n",
              "      <td>16.69897</td>\n",
              "      <td>1345</td>\n",
              "      <td>301</td>\n",
              "      <td>3</td>\n",
              "      <td>162</td>\n",
              "      <td>5.033400e+17</td>\n",
              "      <td>0.117772</td>\n",
              "      <td>447</td>\n",
              "      <td>51877</td>\n",
              "      <td>228</td>\n",
              "    </tr>\n",
              "    <tr>\n",
              "      <th>9997</th>\n",
              "      <td>1.237650e+18</td>\n",
              "      <td>131.552562</td>\n",
              "      <td>51.666986</td>\n",
              "      <td>18.75818</td>\n",
              "      <td>17.77784</td>\n",
              "      <td>17.51872</td>\n",
              "      <td>17.43302</td>\n",
              "      <td>17.42048</td>\n",
              "      <td>1345</td>\n",
              "      <td>301</td>\n",
              "      <td>3</td>\n",
              "      <td>162</td>\n",
              "      <td>8.222620e+18</td>\n",
              "      <td>-0.000402</td>\n",
              "      <td>7303</td>\n",
              "      <td>57013</td>\n",
              "      <td>622</td>\n",
              "    </tr>\n",
              "    <tr>\n",
              "      <th>9998</th>\n",
              "      <td>1.237650e+18</td>\n",
              "      <td>131.477151</td>\n",
              "      <td>51.753068</td>\n",
              "      <td>18.88287</td>\n",
              "      <td>17.91068</td>\n",
              "      <td>17.53152</td>\n",
              "      <td>17.36284</td>\n",
              "      <td>17.13988</td>\n",
              "      <td>1345</td>\n",
              "      <td>301</td>\n",
              "      <td>3</td>\n",
              "      <td>163</td>\n",
              "      <td>5.033400e+17</td>\n",
              "      <td>0.014019</td>\n",
              "      <td>447</td>\n",
              "      <td>51877</td>\n",
              "      <td>229</td>\n",
              "    </tr>\n",
              "    <tr>\n",
              "      <th>9999</th>\n",
              "      <td>1.237650e+18</td>\n",
              "      <td>131.665012</td>\n",
              "      <td>51.805307</td>\n",
              "      <td>19.27586</td>\n",
              "      <td>17.37829</td>\n",
              "      <td>16.30542</td>\n",
              "      <td>15.83548</td>\n",
              "      <td>15.50588</td>\n",
              "      <td>1345</td>\n",
              "      <td>301</td>\n",
              "      <td>3</td>\n",
              "      <td>163</td>\n",
              "      <td>5.033410e+17</td>\n",
              "      <td>0.118417</td>\n",
              "      <td>447</td>\n",
              "      <td>51877</td>\n",
              "      <td>233</td>\n",
              "    </tr>\n",
              "  </tbody>\n",
              "</table>\n",
              "<p>10000 rows × 17 columns</p>\n",
              "</div>"
            ],
            "text/plain": [
              "             objid          ra        dec  ...  plate    mjd  fiberid\n",
              "0     1.237650e+18  183.531326   0.089693  ...   3306  54922      491\n",
              "1     1.237650e+18  183.598371   0.135285  ...    323  51615      541\n",
              "2     1.237650e+18  183.680207   0.126185  ...    287  52023      513\n",
              "3     1.237650e+18  183.870529   0.049911  ...   3306  54922      510\n",
              "4     1.237650e+18  183.883288   0.102557  ...   3306  54922      512\n",
              "...            ...         ...        ...  ...    ...    ...      ...\n",
              "9995  1.237650e+18  131.316413  51.539547  ...    447  51877      246\n",
              "9996  1.237650e+18  131.306083  51.671341  ...    447  51877      228\n",
              "9997  1.237650e+18  131.552562  51.666986  ...   7303  57013      622\n",
              "9998  1.237650e+18  131.477151  51.753068  ...    447  51877      229\n",
              "9999  1.237650e+18  131.665012  51.805307  ...    447  51877      233\n",
              "\n",
              "[10000 rows x 17 columns]"
            ]
          },
          "metadata": {
            "tags": []
          },
          "execution_count": 38
        }
      ]
    },
    {
      "cell_type": "code",
      "metadata": {
        "id": "tD0FKxQE3PaD",
        "colab_type": "code",
        "colab": {
          "base_uri": "https://localhost:8080/",
          "height": 51
        },
        "outputId": "ab0a4f56-1b61-4f71-fc54-ba693dc51e01"
      },
      "source": [
        "print(X.shape)\n",
        "print(y.shape)"
      ],
      "execution_count": 39,
      "outputs": [
        {
          "output_type": "stream",
          "text": [
            "(10000, 17)\n",
            "(10000,)\n"
          ],
          "name": "stdout"
        }
      ]
    },
    {
      "cell_type": "markdown",
      "metadata": {
        "id": "QYxZRzAc3j9I",
        "colab_type": "text"
      },
      "source": [
        "Let us first see how a simple decision tree classifier works on this dataset!"
      ]
    },
    {
      "cell_type": "code",
      "metadata": {
        "id": "U5c8QFRR3U_-",
        "colab_type": "code",
        "colab": {}
      },
      "source": [
        "from sklearn.tree import DecisionTreeClassifier\n",
        "from sklearn.model_selection import cross_val_score"
      ],
      "execution_count": 42,
      "outputs": []
    },
    {
      "cell_type": "code",
      "metadata": {
        "id": "85glh_6L3iHe",
        "colab_type": "code",
        "colab": {}
      },
      "source": [
        "dt = DecisionTreeClassifier()"
      ],
      "execution_count": 43,
      "outputs": []
    },
    {
      "cell_type": "code",
      "metadata": {
        "id": "YNTOcMjQ3vPw",
        "colab_type": "code",
        "colab": {
          "base_uri": "https://localhost:8080/",
          "height": 68
        },
        "outputId": "ea2e5489-fdf9-411b-b20f-4146db607704"
      },
      "source": [
        "baseline_score = cross_val_score(dt, X, y, cv = 10, n_jobs = -1) \n",
        "print(baseline_score)\n",
        "print(\"-----------------------------------------------------------\")\n",
        "print(\"Mean is {0: .3f} with std dev of {1: .3f} [Baseline]\".format(baseline_score.mean(), baseline_score.std()))\n",
        "    "
      ],
      "execution_count": 44,
      "outputs": [
        {
          "output_type": "stream",
          "text": [
            "[0.986 0.978 0.987 0.98  0.992 0.986 0.977 0.976 0.991 0.978]\n",
            "-----------------------------------------------------------\n",
            "Mean is  0.983 with std dev of  0.006 [Baseline]\n"
          ],
          "name": "stdout"
        }
      ]
    },
    {
      "cell_type": "code",
      "metadata": {
        "id": "QJcVig4c34UK",
        "colab_type": "code",
        "colab": {}
      },
      "source": [
        "Bagging ( Bootstrapping + Aggregation )"
      ],
      "execution_count": null,
      "outputs": []
    },
    {
      "cell_type": "markdown",
      "metadata": {
        "id": "cC3sv8ud5h9W",
        "colab_type": "text"
      },
      "source": [
        "#Bagging ( Bootstrapping + Aggregation )"
      ]
    },
    {
      "cell_type": "code",
      "metadata": {
        "id": "_e26ldLz5kQJ",
        "colab_type": "code",
        "colab": {}
      },
      "source": [
        "#Importing necessary libraries for Bagging\n",
        "from sklearn.ensemble import BaggingClassifier, ExtraTreesClassifier, RandomForestClassifier\n",
        "from sklearn.neighbors import KNeighborsClassifier\n",
        "from sklearn.linear_model import RidgeClassifier\n",
        "from sklearn.svm import SVC"
      ],
      "execution_count": 46,
      "outputs": []
    },
    {
      "cell_type": "code",
      "metadata": {
        "id": "81eeWyi_5vxm",
        "colab_type": "code",
        "colab": {}
      },
      "source": [
        "seed = 1075\n",
        "np.random.seed(seed)"
      ],
      "execution_count": 47,
      "outputs": []
    },
    {
      "cell_type": "code",
      "metadata": {
        "id": "zz_qxSpP50qo",
        "colab_type": "code",
        "colab": {}
      },
      "source": [
        "rf= RandomForestClassifier()\n",
        "et= ExtraTreesClassifier()\n",
        "knn= KNeighborsClassifier()\n",
        "svc= SVC()"
      ],
      "execution_count": 50,
      "outputs": []
    },
    {
      "cell_type": "code",
      "metadata": {
        "id": "_GbC5akT6Dib",
        "colab_type": "code",
        "colab": {}
      },
      "source": [
        "clf_array = [rf, et, knn, svc]"
      ],
      "execution_count": 51,
      "outputs": []
    },
    {
      "cell_type": "code",
      "metadata": {
        "id": "OmkZIfH46Gjj",
        "colab_type": "code",
        "colab": {
          "base_uri": "https://localhost:8080/",
          "height": 221
        },
        "outputId": "0914b888-64d3-4f79-b493-9f204e032a00"
      },
      "source": [
        "for clf in clf_array:\n",
        "  without_bagging_scores= cross_val_score(clf, X, y, cv=10 ,n_jobs=-1 )\n",
        "  bagging_clf= BaggingClassifier(clf, max_samples = 0.4, random_state = seed)\n",
        "  bagging_scores = cross_val_score(bagging_clf, X, y, cv = 10, n_jobs = -1)\n",
        "  print(\"Mean is {1: .3f} with std dev of {2: .3f} [{0}]\".format(clf.__class__.__name__, \n",
        "                                                                     without_bagging_scores.mean(), without_bagging_scores.std()))\n",
        "  print(\"Mean is {1: .3f} with std dev of {2: .3f} [Bagging {0}]\".format(clf.__class__.__name__, \n",
        "                                                                     bagging_scores.mean(), bagging_scores.std()))\n",
        "  print(\"=============================================================\")"
      ],
      "execution_count": 53,
      "outputs": [
        {
          "output_type": "stream",
          "text": [
            "Mean is  0.989 with std dev of  0.003 [RandomForestClassifier]\n",
            "Mean is  0.988 with std dev of  0.004 [Bagging RandomForestClassifier]\n",
            "=============================================================\n",
            "Mean is  0.978 with std dev of  0.008 [ExtraTreesClassifier]\n",
            "Mean is  0.977 with std dev of  0.008 [Bagging ExtraTreesClassifier]\n",
            "=============================================================\n",
            "Mean is  0.742 with std dev of  0.032 [KNeighborsClassifier]\n",
            "Mean is  0.777 with std dev of  0.034 [Bagging KNeighborsClassifier]\n",
            "=============================================================\n",
            "Mean is  0.797 with std dev of  0.032 [SVC]\n",
            "Mean is  0.797 with std dev of  0.032 [Bagging SVC]\n",
            "=============================================================\n"
          ],
          "name": "stdout"
        }
      ]
    },
    {
      "cell_type": "markdown",
      "metadata": {
        "id": "nuodCc7x_ETf",
        "colab_type": "text"
      },
      "source": [
        "Here, we see that in the case of RandomForest and ExtraTrees, the sole classifiers are doing a much better job on the cross validation set. However, in the KNNs, the bagging overtakes in terms of accuracy."
      ]
    },
    {
      "cell_type": "markdown",
      "metadata": {
        "id": "FpITQmcZ7tu9",
        "colab_type": "text"
      },
      "source": [
        "# **Boosting**"
      ]
    },
    {
      "cell_type": "code",
      "metadata": {
        "id": "ifIKJ4Am8SVM",
        "colab_type": "code",
        "colab": {
          "base_uri": "https://localhost:8080/",
          "height": 71
        },
        "outputId": "663cec4e-8568-4789-c377-24fcf8a39f26"
      },
      "source": [
        "from sklearn.ensemble import AdaBoostClassifier, GradientBoostingClassifier\n",
        "from xgboost import XGBClassifier\n",
        "from mlxtend.classifier import EnsembleVoteClassifier"
      ],
      "execution_count": 54,
      "outputs": [
        {
          "output_type": "stream",
          "text": [
            "/usr/local/lib/python3.6/dist-packages/sklearn/externals/six.py:31: FutureWarning: The module is deprecated in version 0.21 and will be removed in version 0.23 since we've dropped support for Python 2.7. Please rely on the official version of six (https://pypi.org/project/six/).\n",
            "  \"(https://pypi.org/project/six/).\", FutureWarning)\n"
          ],
          "name": "stderr"
        }
      ]
    },
    {
      "cell_type": "code",
      "metadata": {
        "id": "HqMQEOtg8S9S",
        "colab_type": "code",
        "colab": {}
      },
      "source": [
        "ada_boost= AdaBoostClassifier()\n",
        "xgb_boost= XGBClassifier()\n",
        "grad_boost = GradientBoostingClassifier()"
      ],
      "execution_count": 57,
      "outputs": []
    },
    {
      "cell_type": "code",
      "metadata": {
        "id": "BUc5Jyms9MUi",
        "colab_type": "code",
        "colab": {}
      },
      "source": [
        "boost_array = [ada_boost, grad_boost, xgb_boost]"
      ],
      "execution_count": 58,
      "outputs": []
    },
    {
      "cell_type": "code",
      "metadata": {
        "id": "qMMTPadn9Pc4",
        "colab_type": "code",
        "colab": {}
      },
      "source": [
        "labels = ['Ada Boost', 'Grad Boost', 'XG Boost']"
      ],
      "execution_count": 59,
      "outputs": []
    },
    {
      "cell_type": "code",
      "metadata": {
        "id": "x6wz6N__9WHV",
        "colab_type": "code",
        "colab": {
          "base_uri": "https://localhost:8080/",
          "height": 68
        },
        "outputId": "57fb8648-d970-4537-b4bd-516376f8cf8f"
      },
      "source": [
        "for clf, label in zip([ada_boost, grad_boost, xgb_boost], labels):\n",
        "    scores = cross_val_score(clf, X, y, cv=10, scoring='accuracy')\n",
        "    print(\"Accuracy is {1: .3f} with std dev of {2: .3f} [{0}]\".format(label, scores.mean(), scores.std()))"
      ],
      "execution_count": 60,
      "outputs": [
        {
          "output_type": "stream",
          "text": [
            "Accuracy is  0.871 with std dev of  0.069 [Ada Boost]\n",
            "Accuracy is  0.990 with std dev of  0.003 [Grad Boost]\n",
            "Accuracy is  0.990 with std dev of  0.003 [XG Boost]\n"
          ],
          "name": "stdout"
        }
      ]
    },
    {
      "cell_type": "markdown",
      "metadata": {
        "id": "ox1ri-QS_YYQ",
        "colab_type": "text"
      },
      "source": [
        "Out of all options that were tried so far, the XG Boost algorithm works the best on the given problem at hand."
      ]
    },
    {
      "cell_type": "markdown",
      "metadata": {
        "id": "mPL3EEtE91T7",
        "colab_type": "text"
      },
      "source": [
        "## Stacking"
      ]
    },
    {
      "cell_type": "code",
      "metadata": {
        "id": "OrjRS35H9c3w",
        "colab_type": "code",
        "colab": {}
      },
      "source": [
        "from sklearn.linear_model import LogisticRegression\n",
        "from mlxtend.classifier import StackingClassifier"
      ],
      "execution_count": 61,
      "outputs": []
    },
    {
      "cell_type": "code",
      "metadata": {
        "id": "2rw6q8tw95ul",
        "colab_type": "code",
        "colab": {}
      },
      "source": [
        "clf1 = KNeighborsClassifier()\n",
        "clf2 = RandomForestClassifier()\n",
        "lr = LogisticRegression()\n",
        "## Defining stacking classifier\n",
        "sclf = StackingClassifier(classifiers=[clf1, clf2], \n",
        "                          meta_classifier=lr)"
      ],
      "execution_count": 62,
      "outputs": []
    },
    {
      "cell_type": "code",
      "metadata": {
        "id": "_ayfl80V-DfS",
        "colab_type": "code",
        "colab": {}
      },
      "source": [
        "labels = ['KNN', 'Random Forest', 'Stacking Classifier']\n",
        "clf_array = [clf1, clf2, sclf]"
      ],
      "execution_count": 63,
      "outputs": []
    },
    {
      "cell_type": "code",
      "metadata": {
        "id": "WZnvtec4-F_i",
        "colab_type": "code",
        "colab": {
          "base_uri": "https://localhost:8080/",
          "height": 68
        },
        "outputId": "51ecebb2-1710-4448-84d9-d5b843f647a5"
      },
      "source": [
        "for clf, label in zip(clf_array, labels):\n",
        "    scores = cross_val_score(clf, X, y, cv=10, scoring='accuracy')\n",
        "    print(\"Accuracy is {1: .3f} with std dev of {2: .3f} [{0}]\".format(label, scores.mean(), scores.std()))"
      ],
      "execution_count": 64,
      "outputs": [
        {
          "output_type": "stream",
          "text": [
            "Accuracy is  0.742 with std dev of  0.032 [KNN]\n",
            "Accuracy is  0.989 with std dev of  0.004 [Random Forest]\n",
            "Accuracy is  0.989 with std dev of  0.004 [Stacking Classifier]\n"
          ],
          "name": "stdout"
        }
      ]
    },
    {
      "cell_type": "markdown",
      "metadata": {
        "id": "gQYm2Aw3_kLh",
        "colab_type": "text"
      },
      "source": [
        "The RandomForest and the Stacking Classifier seem to work with the same efficiency and clearly much better than the KNN algoithm."
      ]
    },
    {
      "cell_type": "code",
      "metadata": {
        "id": "kC6uAien-IyA",
        "colab_type": "code",
        "colab": {}
      },
      "source": [
        ""
      ],
      "execution_count": null,
      "outputs": []
    }
  ]
}