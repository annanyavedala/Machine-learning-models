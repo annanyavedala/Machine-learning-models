{
  "nbformat": 4,
  "nbformat_minor": 0,
  "metadata": {
    "kernelspec": {
      "display_name": "Python 3",
      "language": "python",
      "name": "python3"
    },
    "language_info": {
      "name": "python",
      "version": "3.6.6",
      "mimetype": "text/x-python",
      "codemirror_mode": {
        "name": "ipython",
        "version": 3
      },
      "pygments_lexer": "ipython3",
      "nbconvert_exporter": "python",
      "file_extension": ".py"
    },
    "colab": {
      "name": "Modcloth.ipynb",
      "provenance": [],
      "toc_visible": true,
      "include_colab_link": true
    }
  },
  "cells": [
    {
      "cell_type": "markdown",
      "metadata": {
        "id": "view-in-github",
        "colab_type": "text"
      },
      "source": [
        "<a href=\"https://colab.research.google.com/github/AnnanyaV/kaggle/blob/master/Modcloth.ipynb\" target=\"_parent\"><img src=\"https://colab.research.google.com/assets/colab-badge.svg\" alt=\"Open In Colab\"/></a>"
      ]
    },
    {
      "cell_type": "markdown",
      "metadata": {
        "_uuid": "8c6a654a70b19670e20a5bd633d1ecfa0962798c",
        "id": "HvB-GFF7H36u"
      },
      "source": [
        "# MODCLOTH DATA-PREPROCESSING\n",
        "## **About the dataset**\n",
        "\n",
        ">This dataset contains self-reported clothing-fit feedback from customers as well as other side information like reviews, ratings, product categories, catalog sizes, customers’ measurements (etc.) from 2 websites:\n",
        ">1. [Modcloth](http://modcloth.com)\n",
        ">2. [Renttherunway](http://renttherunway.com)\n",
        ">\n",
        ">[[1]](#references) ModCloth sells women’s vintage clothing and accessories, from which the curator of the dataset collected data from three categories: dresses, tops, and bottoms. RentTheRunWay is a unique platform that allows women to rent clothes for various occasions; they collected data from several categories. \n",
        ">\n",
        ">**Note:** In both datasets, fit feedback belongs to one of three classes: ‘Small,’ ‘Fit,’ and ‘Large.’ And also, some [assumptions](#assumptions) have been made about the features in the dataset."
      ]
    },
    {
      "cell_type": "code",
      "metadata": {
        "_uuid": "8f2839f25d086af736a60e9eeb907d3b93b6e0e5",
        "_cell_guid": "b1076dfc-b9ad-4769-8c92-a6c4dae69d19",
        "trusted": true,
        "_kg_hide-input": true,
        "_kg_hide-output": true,
        "id": "-MGV0Sr9H36w"
      },
      "source": [
        "import numpy as np \n",
        "import pandas as pd \n",
        "import matplotlib.pyplot as plt\n",
        "import seaborn as sns\n",
        "import os\n",
        "\n",
        "# Suppressing all warnings\n",
        "import warnings\n",
        "warnings.filterwarnings(\"ignore\")\n",
        "\n",
        "import matplotlib\n",
        "matplotlib.rc('figure', figsize = (20, 8))\n",
        "matplotlib.rc('font', size = 14)\n",
        "matplotlib.rc('axes.spines', top = False, right = False)\n",
        "matplotlib.rc('axes', grid = False)\n",
        "matplotlib.rc('axes', facecolor = 'white')"
      ],
      "execution_count": 68,
      "outputs": []
    },
    {
      "cell_type": "markdown",
      "metadata": {
        "_uuid": "0afe5de71cb8f3be40b3ed12413d7f9cea6f7cf3",
        "id": "CSa9rUMmH365"
      },
      "source": [
        "#  [Modcloth](http://modcloth.com) Dataset\n",
        "\n",
        "## Importing data using Pandas "
      ]
    },
    {
      "cell_type": "markdown",
      "metadata": {
        "_uuid": "087af58a4c546acd6c52d9ec5b0dbf3f95cb0f23",
        "id": "6aMJENjWH37B"
      },
      "source": [
        "Using the pd.read_json() function the json file is brought into a pandas DataFrame, with the *lines* parameter as *True*- because every new object is separated by a new line. "
      ]
    },
    {
      "cell_type": "code",
      "metadata": {
        "id": "cYyAeRrzG1cN",
        "colab": {
          "base_uri": "https://localhost:8080/"
        },
        "outputId": "3bbf1637-6b29-4b97-d16d-61220882d3ed"
      },
      "source": [
        "from google.colab import drive\n",
        "drive.mount('/content/drive')"
      ],
      "execution_count": 3,
      "outputs": [
        {
          "output_type": "stream",
          "text": [
            "Mounted at /content/drive\n"
          ],
          "name": "stdout"
        }
      ]
    },
    {
      "cell_type": "code",
      "metadata": {
        "trusted": true,
        "_uuid": "2178520ea77364cb4faedefca9acba4ee659cc1a",
        "_kg_hide-input": true,
        "id": "d62NLUf5H37C",
        "colab": {
          "base_uri": "https://localhost:8080/",
          "height": 745
        },
        "outputId": "66f04b73-5baf-4010-8f65-212816b01279"
      },
      "source": [
        "# YOUR CODE HERE\n",
        "mc_df= pd.read_json('/content/drive/My Drive/aiet data/modcloth_final_data.json', lines=True)\n",
        "mc_df"
      ],
      "execution_count": 69,
      "outputs": [
        {
          "output_type": "execute_result",
          "data": {
            "text/html": [
              "<div>\n",
              "<style scoped>\n",
              "    .dataframe tbody tr th:only-of-type {\n",
              "        vertical-align: middle;\n",
              "    }\n",
              "\n",
              "    .dataframe tbody tr th {\n",
              "        vertical-align: top;\n",
              "    }\n",
              "\n",
              "    .dataframe thead th {\n",
              "        text-align: right;\n",
              "    }\n",
              "</style>\n",
              "<table border=\"1\" class=\"dataframe\">\n",
              "  <thead>\n",
              "    <tr style=\"text-align: right;\">\n",
              "      <th></th>\n",
              "      <th>item_id</th>\n",
              "      <th>waist</th>\n",
              "      <th>size</th>\n",
              "      <th>quality</th>\n",
              "      <th>cup size</th>\n",
              "      <th>hips</th>\n",
              "      <th>bra size</th>\n",
              "      <th>category</th>\n",
              "      <th>bust</th>\n",
              "      <th>height</th>\n",
              "      <th>user_name</th>\n",
              "      <th>length</th>\n",
              "      <th>fit</th>\n",
              "      <th>user_id</th>\n",
              "      <th>shoe size</th>\n",
              "      <th>shoe width</th>\n",
              "      <th>review_summary</th>\n",
              "      <th>review_text</th>\n",
              "    </tr>\n",
              "  </thead>\n",
              "  <tbody>\n",
              "    <tr>\n",
              "      <th>0</th>\n",
              "      <td>123373</td>\n",
              "      <td>29.0</td>\n",
              "      <td>7</td>\n",
              "      <td>5.0</td>\n",
              "      <td>d</td>\n",
              "      <td>38.0</td>\n",
              "      <td>34.0</td>\n",
              "      <td>new</td>\n",
              "      <td>36</td>\n",
              "      <td>5ft 6in</td>\n",
              "      <td>Emily</td>\n",
              "      <td>just right</td>\n",
              "      <td>small</td>\n",
              "      <td>991571</td>\n",
              "      <td>NaN</td>\n",
              "      <td>NaN</td>\n",
              "      <td>NaN</td>\n",
              "      <td>NaN</td>\n",
              "    </tr>\n",
              "    <tr>\n",
              "      <th>1</th>\n",
              "      <td>123373</td>\n",
              "      <td>31.0</td>\n",
              "      <td>13</td>\n",
              "      <td>3.0</td>\n",
              "      <td>b</td>\n",
              "      <td>30.0</td>\n",
              "      <td>36.0</td>\n",
              "      <td>new</td>\n",
              "      <td>NaN</td>\n",
              "      <td>5ft 2in</td>\n",
              "      <td>sydneybraden2001</td>\n",
              "      <td>just right</td>\n",
              "      <td>small</td>\n",
              "      <td>587883</td>\n",
              "      <td>NaN</td>\n",
              "      <td>NaN</td>\n",
              "      <td>NaN</td>\n",
              "      <td>NaN</td>\n",
              "    </tr>\n",
              "    <tr>\n",
              "      <th>2</th>\n",
              "      <td>123373</td>\n",
              "      <td>30.0</td>\n",
              "      <td>7</td>\n",
              "      <td>2.0</td>\n",
              "      <td>b</td>\n",
              "      <td>NaN</td>\n",
              "      <td>32.0</td>\n",
              "      <td>new</td>\n",
              "      <td>NaN</td>\n",
              "      <td>5ft 7in</td>\n",
              "      <td>Ugggh</td>\n",
              "      <td>slightly long</td>\n",
              "      <td>small</td>\n",
              "      <td>395665</td>\n",
              "      <td>9.0</td>\n",
              "      <td>NaN</td>\n",
              "      <td>NaN</td>\n",
              "      <td>NaN</td>\n",
              "    </tr>\n",
              "    <tr>\n",
              "      <th>3</th>\n",
              "      <td>123373</td>\n",
              "      <td>NaN</td>\n",
              "      <td>21</td>\n",
              "      <td>5.0</td>\n",
              "      <td>dd/e</td>\n",
              "      <td>NaN</td>\n",
              "      <td>NaN</td>\n",
              "      <td>new</td>\n",
              "      <td>NaN</td>\n",
              "      <td>NaN</td>\n",
              "      <td>alexmeyer626</td>\n",
              "      <td>just right</td>\n",
              "      <td>fit</td>\n",
              "      <td>875643</td>\n",
              "      <td>NaN</td>\n",
              "      <td>NaN</td>\n",
              "      <td>NaN</td>\n",
              "      <td>NaN</td>\n",
              "    </tr>\n",
              "    <tr>\n",
              "      <th>4</th>\n",
              "      <td>123373</td>\n",
              "      <td>NaN</td>\n",
              "      <td>18</td>\n",
              "      <td>5.0</td>\n",
              "      <td>b</td>\n",
              "      <td>NaN</td>\n",
              "      <td>36.0</td>\n",
              "      <td>new</td>\n",
              "      <td>NaN</td>\n",
              "      <td>5ft 2in</td>\n",
              "      <td>dberrones1</td>\n",
              "      <td>slightly long</td>\n",
              "      <td>small</td>\n",
              "      <td>944840</td>\n",
              "      <td>NaN</td>\n",
              "      <td>NaN</td>\n",
              "      <td>NaN</td>\n",
              "      <td>NaN</td>\n",
              "    </tr>\n",
              "    <tr>\n",
              "      <th>...</th>\n",
              "      <td>...</td>\n",
              "      <td>...</td>\n",
              "      <td>...</td>\n",
              "      <td>...</td>\n",
              "      <td>...</td>\n",
              "      <td>...</td>\n",
              "      <td>...</td>\n",
              "      <td>...</td>\n",
              "      <td>...</td>\n",
              "      <td>...</td>\n",
              "      <td>...</td>\n",
              "      <td>...</td>\n",
              "      <td>...</td>\n",
              "      <td>...</td>\n",
              "      <td>...</td>\n",
              "      <td>...</td>\n",
              "      <td>...</td>\n",
              "      <td>...</td>\n",
              "    </tr>\n",
              "    <tr>\n",
              "      <th>82785</th>\n",
              "      <td>807722</td>\n",
              "      <td>NaN</td>\n",
              "      <td>8</td>\n",
              "      <td>4.0</td>\n",
              "      <td>b</td>\n",
              "      <td>NaN</td>\n",
              "      <td>36.0</td>\n",
              "      <td>outerwear</td>\n",
              "      <td>NaN</td>\n",
              "      <td>5ft 8in</td>\n",
              "      <td>Jennifer</td>\n",
              "      <td>just right</td>\n",
              "      <td>fit</td>\n",
              "      <td>727820</td>\n",
              "      <td>8.5</td>\n",
              "      <td>average</td>\n",
              "      <td>Cute jacket!</td>\n",
              "      <td>Cute jacket!</td>\n",
              "    </tr>\n",
              "    <tr>\n",
              "      <th>82786</th>\n",
              "      <td>807722</td>\n",
              "      <td>NaN</td>\n",
              "      <td>12</td>\n",
              "      <td>5.0</td>\n",
              "      <td>ddd/f</td>\n",
              "      <td>NaN</td>\n",
              "      <td>34.0</td>\n",
              "      <td>outerwear</td>\n",
              "      <td>NaN</td>\n",
              "      <td>5ft 5in</td>\n",
              "      <td>Kelli</td>\n",
              "      <td>slightly long</td>\n",
              "      <td>small</td>\n",
              "      <td>197040</td>\n",
              "      <td>NaN</td>\n",
              "      <td>NaN</td>\n",
              "      <td>It's a beautiful jacket.</td>\n",
              "      <td>It's a beautiful jacket. I love how it's knit ...</td>\n",
              "    </tr>\n",
              "    <tr>\n",
              "      <th>82787</th>\n",
              "      <td>807722</td>\n",
              "      <td>NaN</td>\n",
              "      <td>12</td>\n",
              "      <td>5.0</td>\n",
              "      <td>dddd/g</td>\n",
              "      <td>36.0</td>\n",
              "      <td>32.0</td>\n",
              "      <td>outerwear</td>\n",
              "      <td>NaN</td>\n",
              "      <td>5ft 4in</td>\n",
              "      <td>elacount</td>\n",
              "      <td>just right</td>\n",
              "      <td>fit</td>\n",
              "      <td>102493</td>\n",
              "      <td>NaN</td>\n",
              "      <td>NaN</td>\n",
              "      <td>I love this blazer. It is</td>\n",
              "      <td>I love this blazer. It is a great office piece...</td>\n",
              "    </tr>\n",
              "    <tr>\n",
              "      <th>82788</th>\n",
              "      <td>807722</td>\n",
              "      <td>NaN</td>\n",
              "      <td>12</td>\n",
              "      <td>4.0</td>\n",
              "      <td>NaN</td>\n",
              "      <td>NaN</td>\n",
              "      <td>NaN</td>\n",
              "      <td>outerwear</td>\n",
              "      <td>NaN</td>\n",
              "      <td>5ft 3in</td>\n",
              "      <td>jennaklinner</td>\n",
              "      <td>just right</td>\n",
              "      <td>fit</td>\n",
              "      <td>756491</td>\n",
              "      <td>NaN</td>\n",
              "      <td>NaN</td>\n",
              "      <td>I love this blazer!! I wo</td>\n",
              "      <td>I love this blazer!! I wore it yesterday and g...</td>\n",
              "    </tr>\n",
              "    <tr>\n",
              "      <th>82789</th>\n",
              "      <td>807722</td>\n",
              "      <td>NaN</td>\n",
              "      <td>4</td>\n",
              "      <td>4.0</td>\n",
              "      <td>d</td>\n",
              "      <td>39.0</td>\n",
              "      <td>32.0</td>\n",
              "      <td>outerwear</td>\n",
              "      <td>NaN</td>\n",
              "      <td>6ft</td>\n",
              "      <td>maireadsteadman</td>\n",
              "      <td>just right</td>\n",
              "      <td>fit</td>\n",
              "      <td>78305</td>\n",
              "      <td>NaN</td>\n",
              "      <td>NaN</td>\n",
              "      <td>I love this piece. I'm re</td>\n",
              "      <td>I love this piece. I'm really happy with it!</td>\n",
              "    </tr>\n",
              "  </tbody>\n",
              "</table>\n",
              "<p>82790 rows × 18 columns</p>\n",
              "</div>"
            ],
            "text/plain": [
              "       item_id  ...                                        review_text\n",
              "0       123373  ...                                                NaN\n",
              "1       123373  ...                                                NaN\n",
              "2       123373  ...                                                NaN\n",
              "3       123373  ...                                                NaN\n",
              "4       123373  ...                                                NaN\n",
              "...        ...  ...                                                ...\n",
              "82785   807722  ...                                       Cute jacket!\n",
              "82786   807722  ...  It's a beautiful jacket. I love how it's knit ...\n",
              "82787   807722  ...  I love this blazer. It is a great office piece...\n",
              "82788   807722  ...  I love this blazer!! I wore it yesterday and g...\n",
              "82789   807722  ...       I love this piece. I'm really happy with it!\n",
              "\n",
              "[82790 rows x 18 columns]"
            ]
          },
          "metadata": {
            "tags": []
          },
          "execution_count": 69
        }
      ]
    },
    {
      "cell_type": "markdown",
      "metadata": {
        "_uuid": "8c2f1fbfc72d21e57693d431a0b91f277d4f9e46",
        "id": "YJ8eXResH37I"
      },
      "source": [
        "<a id=\"4\"></a>\n",
        "# EDA - Exploratory Data Analysis\n",
        "\n",
        "We can already make few observations here, by looking at the head of the data:\n",
        "1. There are missing values across the dataframe, which need to be handled.\n",
        "2. Cup-size contains multiple preferences- which will need handling, if we wish to define cup sizes as 'category' datatype.\n",
        "3. Height column needs to be parsed for extracting the height in a numerical quantity, it looks like a string (object) right now.\n",
        "4. Not so important, but some columns could do with some renaming- for removing spaces.\n",
        "\n",
        "Firstly, we handle the naming of columns for ease-of-access in pandas."
      ]
    },
    {
      "cell_type": "code",
      "metadata": {
        "trusted": true,
        "_uuid": "2eb7d925650a29cfd0541a5c2038163d4cda4bf9",
        "_kg_hide-input": true,
        "id": "eyYF1VjdH37S",
        "colab": {
          "base_uri": "https://localhost:8080/"
        },
        "outputId": "858f8414-6f87-48c6-856d-b3fdf35c8e4b"
      },
      "source": [
        "# YOUR CODE HERE\n",
        "mc_df.columns"
      ],
      "execution_count": 70,
      "outputs": [
        {
          "output_type": "execute_result",
          "data": {
            "text/plain": [
              "Index(['item_id', 'waist', 'size', 'quality', 'cup size', 'hips', 'bra size',\n",
              "       'category', 'bust', 'height', 'user_name', 'length', 'fit', 'user_id',\n",
              "       'shoe size', 'shoe width', 'review_summary', 'review_text'],\n",
              "      dtype='object')"
            ]
          },
          "metadata": {
            "tags": []
          },
          "execution_count": 70
        }
      ]
    },
    {
      "cell_type": "code",
      "metadata": {
        "id": "GXPC_eEnKBFR"
      },
      "source": [
        "mc_df.columns= ['item_id', 'waist', 'mc_size', 'quality', 'cup_size', 'hips', 'bra_size',\n",
        "       'category', 'bust', 'height', 'user_name', 'length', 'fit', 'user_id',\n",
        "       'shoe_size', 'shoe_width', 'review_summary', 'review_text']"
      ],
      "execution_count": 71,
      "outputs": []
    },
    {
      "cell_type": "code",
      "metadata": {
        "trusted": true,
        "_uuid": "d7ddb93e533e9dc8b72935be347fef34a443edbd",
        "_kg_hide-output": true,
        "id": "gSu2RSneH37a",
        "colab": {
          "base_uri": "https://localhost:8080/"
        },
        "outputId": "332e08cf-2ab7-4b68-fa27-0ef2d8c44893"
      },
      "source": [
        "# Check Info\n",
        "mc_df.info()\n",
        "# YOUR CODE HERE"
      ],
      "execution_count": 72,
      "outputs": [
        {
          "output_type": "stream",
          "text": [
            "<class 'pandas.core.frame.DataFrame'>\n",
            "RangeIndex: 82790 entries, 0 to 82789\n",
            "Data columns (total 18 columns):\n",
            " #   Column          Non-Null Count  Dtype  \n",
            "---  ------          --------------  -----  \n",
            " 0   item_id         82790 non-null  int64  \n",
            " 1   waist           2882 non-null   float64\n",
            " 2   mc_size         82790 non-null  int64  \n",
            " 3   quality         82722 non-null  float64\n",
            " 4   cup_size        76535 non-null  object \n",
            " 5   hips            56064 non-null  float64\n",
            " 6   bra_size        76772 non-null  float64\n",
            " 7   category        82790 non-null  object \n",
            " 8   bust            11854 non-null  object \n",
            " 9   height          81683 non-null  object \n",
            " 10  user_name       82790 non-null  object \n",
            " 11  length          82755 non-null  object \n",
            " 12  fit             82790 non-null  object \n",
            " 13  user_id         82790 non-null  int64  \n",
            " 14  shoe_size       27915 non-null  float64\n",
            " 15  shoe_width      18607 non-null  object \n",
            " 16  review_summary  76065 non-null  object \n",
            " 17  review_text     76065 non-null  object \n",
            "dtypes: float64(5), int64(3), object(10)\n",
            "memory usage: 11.4+ MB\n"
          ],
          "name": "stdout"
        }
      ]
    },
    {
      "cell_type": "code",
      "metadata": {
        "id": "wYD2r5-qLIST",
        "colab": {
          "base_uri": "https://localhost:8080/"
        },
        "outputId": "3c188926-bfca-45e0-e8f2-28104626f1d4"
      },
      "source": [
        "mc_df.isna().sum()"
      ],
      "execution_count": 73,
      "outputs": [
        {
          "output_type": "execute_result",
          "data": {
            "text/plain": [
              "item_id               0\n",
              "waist             79908\n",
              "mc_size               0\n",
              "quality              68\n",
              "cup_size           6255\n",
              "hips              26726\n",
              "bra_size           6018\n",
              "category              0\n",
              "bust              70936\n",
              "height             1107\n",
              "user_name             0\n",
              "length               35\n",
              "fit                   0\n",
              "user_id               0\n",
              "shoe_size         54875\n",
              "shoe_width        64183\n",
              "review_summary     6725\n",
              "review_text        6725\n",
              "dtype: int64"
            ]
          },
          "metadata": {
            "tags": []
          },
          "execution_count": 73
        }
      ]
    },
    {
      "cell_type": "markdown",
      "metadata": {
        "_uuid": "72958fa8d1073677cab16e0c0ff4dd5c73408269",
        "id": "Z-VBiJRNH37i"
      },
      "source": [
        "We can extend our observations on missing data and the datatypes here:\n",
        "* Out of 18 columns, only 6 columns have complete data.\n",
        "* Quite a lot of data seems to be missing in bust, shoe width, shoe size and waist.\n",
        "* We might want to especially look at the items which **have** shoe size and shoe width available- these could possibly be shoes!\n",
        "* Alot of the columns have strings (object datatype), which needs to be parsed into the category datatype (aids in efficient memory consumption as well). \n",
        "* *Waist* column surprisingly has a lot of NULL values- considering most of the data from Modcloth comes from the 3 categories of 'dresses, tops and bottoms'.\n",
        "\n",
        "### Looking at the percentage of missing values per column"
      ]
    },
    {
      "cell_type": "code",
      "metadata": {
        "trusted": true,
        "_uuid": "2f8943057ad36703c03578d3230032e9126166af",
        "_kg_hide-input": true,
        "id": "TJIxl1cVH37i",
        "colab": {
          "base_uri": "https://localhost:8080/",
          "height": 607
        },
        "outputId": "19cf3573-74ce-4c8e-aab8-3ed1c26bbbf1"
      },
      "source": [
        "missing_data=pd.DataFrame({'missing_values':(mc_df.isna().sum()), 'perc_miss':(mc_df.isna().sum()/82790)*100})\n",
        "missing_data"
      ],
      "execution_count": 74,
      "outputs": [
        {
          "output_type": "execute_result",
          "data": {
            "text/html": [
              "<div>\n",
              "<style scoped>\n",
              "    .dataframe tbody tr th:only-of-type {\n",
              "        vertical-align: middle;\n",
              "    }\n",
              "\n",
              "    .dataframe tbody tr th {\n",
              "        vertical-align: top;\n",
              "    }\n",
              "\n",
              "    .dataframe thead th {\n",
              "        text-align: right;\n",
              "    }\n",
              "</style>\n",
              "<table border=\"1\" class=\"dataframe\">\n",
              "  <thead>\n",
              "    <tr style=\"text-align: right;\">\n",
              "      <th></th>\n",
              "      <th>missing_values</th>\n",
              "      <th>perc_miss</th>\n",
              "    </tr>\n",
              "  </thead>\n",
              "  <tbody>\n",
              "    <tr>\n",
              "      <th>item_id</th>\n",
              "      <td>0</td>\n",
              "      <td>0.000000</td>\n",
              "    </tr>\n",
              "    <tr>\n",
              "      <th>waist</th>\n",
              "      <td>79908</td>\n",
              "      <td>96.518903</td>\n",
              "    </tr>\n",
              "    <tr>\n",
              "      <th>mc_size</th>\n",
              "      <td>0</td>\n",
              "      <td>0.000000</td>\n",
              "    </tr>\n",
              "    <tr>\n",
              "      <th>quality</th>\n",
              "      <td>68</td>\n",
              "      <td>0.082136</td>\n",
              "    </tr>\n",
              "    <tr>\n",
              "      <th>cup_size</th>\n",
              "      <td>6255</td>\n",
              "      <td>7.555260</td>\n",
              "    </tr>\n",
              "    <tr>\n",
              "      <th>hips</th>\n",
              "      <td>26726</td>\n",
              "      <td>32.281677</td>\n",
              "    </tr>\n",
              "    <tr>\n",
              "      <th>bra_size</th>\n",
              "      <td>6018</td>\n",
              "      <td>7.268994</td>\n",
              "    </tr>\n",
              "    <tr>\n",
              "      <th>category</th>\n",
              "      <td>0</td>\n",
              "      <td>0.000000</td>\n",
              "    </tr>\n",
              "    <tr>\n",
              "      <th>bust</th>\n",
              "      <td>70936</td>\n",
              "      <td>85.681846</td>\n",
              "    </tr>\n",
              "    <tr>\n",
              "      <th>height</th>\n",
              "      <td>1107</td>\n",
              "      <td>1.337118</td>\n",
              "    </tr>\n",
              "    <tr>\n",
              "      <th>user_name</th>\n",
              "      <td>0</td>\n",
              "      <td>0.000000</td>\n",
              "    </tr>\n",
              "    <tr>\n",
              "      <th>length</th>\n",
              "      <td>35</td>\n",
              "      <td>0.042276</td>\n",
              "    </tr>\n",
              "    <tr>\n",
              "      <th>fit</th>\n",
              "      <td>0</td>\n",
              "      <td>0.000000</td>\n",
              "    </tr>\n",
              "    <tr>\n",
              "      <th>user_id</th>\n",
              "      <td>0</td>\n",
              "      <td>0.000000</td>\n",
              "    </tr>\n",
              "    <tr>\n",
              "      <th>shoe_size</th>\n",
              "      <td>54875</td>\n",
              "      <td>66.282160</td>\n",
              "    </tr>\n",
              "    <tr>\n",
              "      <th>shoe_width</th>\n",
              "      <td>64183</td>\n",
              "      <td>77.525063</td>\n",
              "    </tr>\n",
              "    <tr>\n",
              "      <th>review_summary</th>\n",
              "      <td>6725</td>\n",
              "      <td>8.122962</td>\n",
              "    </tr>\n",
              "    <tr>\n",
              "      <th>review_text</th>\n",
              "      <td>6725</td>\n",
              "      <td>8.122962</td>\n",
              "    </tr>\n",
              "  </tbody>\n",
              "</table>\n",
              "</div>"
            ],
            "text/plain": [
              "                missing_values  perc_miss\n",
              "item_id                      0   0.000000\n",
              "waist                    79908  96.518903\n",
              "mc_size                      0   0.000000\n",
              "quality                     68   0.082136\n",
              "cup_size                  6255   7.555260\n",
              "hips                     26726  32.281677\n",
              "bra_size                  6018   7.268994\n",
              "category                     0   0.000000\n",
              "bust                     70936  85.681846\n",
              "height                    1107   1.337118\n",
              "user_name                    0   0.000000\n",
              "length                      35   0.042276\n",
              "fit                          0   0.000000\n",
              "user_id                      0   0.000000\n",
              "shoe_size                54875  66.282160\n",
              "shoe_width               64183  77.525063\n",
              "review_summary            6725   8.122962\n",
              "review_text               6725   8.122962"
            ]
          },
          "metadata": {
            "tags": []
          },
          "execution_count": 74
        }
      ]
    },
    {
      "cell_type": "markdown",
      "metadata": {
        "_uuid": "6007512cb980547f2930af9093e6d570fede7841",
        "id": "H80IDVMxH37o"
      },
      "source": [
        "### Statistical description of numerical variables"
      ]
    },
    {
      "cell_type": "code",
      "metadata": {
        "trusted": true,
        "_uuid": "508e99930c3b1ecb429e8501e514a346e65d84ff",
        "_kg_hide-input": true,
        "id": "dX-qAKllH37q",
        "colab": {
          "base_uri": "https://localhost:8080/",
          "height": 173
        },
        "outputId": "7e49689f-9be2-4015-9a73-4c859dd8e2d4"
      },
      "source": [
        "mc_df.describe(include='O')"
      ],
      "execution_count": 75,
      "outputs": [
        {
          "output_type": "execute_result",
          "data": {
            "text/html": [
              "<div>\n",
              "<style scoped>\n",
              "    .dataframe tbody tr th:only-of-type {\n",
              "        vertical-align: middle;\n",
              "    }\n",
              "\n",
              "    .dataframe tbody tr th {\n",
              "        vertical-align: top;\n",
              "    }\n",
              "\n",
              "    .dataframe thead th {\n",
              "        text-align: right;\n",
              "    }\n",
              "</style>\n",
              "<table border=\"1\" class=\"dataframe\">\n",
              "  <thead>\n",
              "    <tr style=\"text-align: right;\">\n",
              "      <th></th>\n",
              "      <th>cup_size</th>\n",
              "      <th>category</th>\n",
              "      <th>bust</th>\n",
              "      <th>height</th>\n",
              "      <th>user_name</th>\n",
              "      <th>length</th>\n",
              "      <th>fit</th>\n",
              "      <th>shoe_width</th>\n",
              "      <th>review_summary</th>\n",
              "      <th>review_text</th>\n",
              "    </tr>\n",
              "  </thead>\n",
              "  <tbody>\n",
              "    <tr>\n",
              "      <th>count</th>\n",
              "      <td>76535</td>\n",
              "      <td>82790</td>\n",
              "      <td>11854</td>\n",
              "      <td>81683</td>\n",
              "      <td>82790</td>\n",
              "      <td>82755</td>\n",
              "      <td>82790</td>\n",
              "      <td>18607</td>\n",
              "      <td>76065</td>\n",
              "      <td>76065</td>\n",
              "    </tr>\n",
              "    <tr>\n",
              "      <th>unique</th>\n",
              "      <td>12</td>\n",
              "      <td>7</td>\n",
              "      <td>40</td>\n",
              "      <td>41</td>\n",
              "      <td>32429</td>\n",
              "      <td>5</td>\n",
              "      <td>3</td>\n",
              "      <td>3</td>\n",
              "      <td>61713</td>\n",
              "      <td>73313</td>\n",
              "    </tr>\n",
              "    <tr>\n",
              "      <th>top</th>\n",
              "      <td>c</td>\n",
              "      <td>new</td>\n",
              "      <td>36</td>\n",
              "      <td>5ft 4in</td>\n",
              "      <td>Sarah</td>\n",
              "      <td>just right</td>\n",
              "      <td>fit</td>\n",
              "      <td>average</td>\n",
              "      <td>Love it!</td>\n",
              "      <td>Love it!</td>\n",
              "    </tr>\n",
              "    <tr>\n",
              "      <th>freq</th>\n",
              "      <td>18370</td>\n",
              "      <td>21488</td>\n",
              "      <td>2055</td>\n",
              "      <td>11928</td>\n",
              "      <td>729</td>\n",
              "      <td>61944</td>\n",
              "      <td>56757</td>\n",
              "      <td>13097</td>\n",
              "      <td>185</td>\n",
              "      <td>153</td>\n",
              "    </tr>\n",
              "  </tbody>\n",
              "</table>\n",
              "</div>"
            ],
            "text/plain": [
              "       cup_size category   bust  ... shoe_width review_summary review_text\n",
              "count     76535    82790  11854  ...      18607          76065       76065\n",
              "unique       12        7     40  ...          3          61713       73313\n",
              "top           c      new     36  ...    average       Love it!    Love it!\n",
              "freq      18370    21488   2055  ...      13097            185         153\n",
              "\n",
              "[4 rows x 10 columns]"
            ]
          },
          "metadata": {
            "tags": []
          },
          "execution_count": 75
        }
      ]
    },
    {
      "cell_type": "code",
      "metadata": {
        "id": "Gu6tybTRSxqL",
        "colab": {
          "base_uri": "https://localhost:8080/",
          "height": 297
        },
        "outputId": "e37608e3-0c0c-4002-f7b0-cf01ec78a5db"
      },
      "source": [
        "mc_df.describe()"
      ],
      "execution_count": 76,
      "outputs": [
        {
          "output_type": "execute_result",
          "data": {
            "text/html": [
              "<div>\n",
              "<style scoped>\n",
              "    .dataframe tbody tr th:only-of-type {\n",
              "        vertical-align: middle;\n",
              "    }\n",
              "\n",
              "    .dataframe tbody tr th {\n",
              "        vertical-align: top;\n",
              "    }\n",
              "\n",
              "    .dataframe thead th {\n",
              "        text-align: right;\n",
              "    }\n",
              "</style>\n",
              "<table border=\"1\" class=\"dataframe\">\n",
              "  <thead>\n",
              "    <tr style=\"text-align: right;\">\n",
              "      <th></th>\n",
              "      <th>item_id</th>\n",
              "      <th>waist</th>\n",
              "      <th>mc_size</th>\n",
              "      <th>quality</th>\n",
              "      <th>hips</th>\n",
              "      <th>bra_size</th>\n",
              "      <th>user_id</th>\n",
              "      <th>shoe_size</th>\n",
              "    </tr>\n",
              "  </thead>\n",
              "  <tbody>\n",
              "    <tr>\n",
              "      <th>count</th>\n",
              "      <td>82790.000000</td>\n",
              "      <td>2882.000000</td>\n",
              "      <td>82790.000000</td>\n",
              "      <td>82722.000000</td>\n",
              "      <td>56064.000000</td>\n",
              "      <td>76772.000000</td>\n",
              "      <td>82790.000000</td>\n",
              "      <td>27915.000000</td>\n",
              "    </tr>\n",
              "    <tr>\n",
              "      <th>mean</th>\n",
              "      <td>469325.229170</td>\n",
              "      <td>31.319223</td>\n",
              "      <td>12.661602</td>\n",
              "      <td>3.949058</td>\n",
              "      <td>40.358501</td>\n",
              "      <td>35.972125</td>\n",
              "      <td>498849.564718</td>\n",
              "      <td>8.145818</td>\n",
              "    </tr>\n",
              "    <tr>\n",
              "      <th>std</th>\n",
              "      <td>213999.803314</td>\n",
              "      <td>5.302849</td>\n",
              "      <td>8.271952</td>\n",
              "      <td>0.992783</td>\n",
              "      <td>5.827166</td>\n",
              "      <td>3.224907</td>\n",
              "      <td>286356.969459</td>\n",
              "      <td>1.336109</td>\n",
              "    </tr>\n",
              "    <tr>\n",
              "      <th>min</th>\n",
              "      <td>123373.000000</td>\n",
              "      <td>20.000000</td>\n",
              "      <td>0.000000</td>\n",
              "      <td>1.000000</td>\n",
              "      <td>30.000000</td>\n",
              "      <td>28.000000</td>\n",
              "      <td>6.000000</td>\n",
              "      <td>5.000000</td>\n",
              "    </tr>\n",
              "    <tr>\n",
              "      <th>25%</th>\n",
              "      <td>314980.000000</td>\n",
              "      <td>28.000000</td>\n",
              "      <td>8.000000</td>\n",
              "      <td>3.000000</td>\n",
              "      <td>36.000000</td>\n",
              "      <td>34.000000</td>\n",
              "      <td>252897.750000</td>\n",
              "      <td>7.000000</td>\n",
              "    </tr>\n",
              "    <tr>\n",
              "      <th>50%</th>\n",
              "      <td>454030.000000</td>\n",
              "      <td>30.000000</td>\n",
              "      <td>12.000000</td>\n",
              "      <td>4.000000</td>\n",
              "      <td>39.000000</td>\n",
              "      <td>36.000000</td>\n",
              "      <td>497913.500000</td>\n",
              "      <td>8.000000</td>\n",
              "    </tr>\n",
              "    <tr>\n",
              "      <th>75%</th>\n",
              "      <td>658440.000000</td>\n",
              "      <td>34.000000</td>\n",
              "      <td>15.000000</td>\n",
              "      <td>5.000000</td>\n",
              "      <td>43.000000</td>\n",
              "      <td>38.000000</td>\n",
              "      <td>744745.250000</td>\n",
              "      <td>9.000000</td>\n",
              "    </tr>\n",
              "    <tr>\n",
              "      <th>max</th>\n",
              "      <td>807722.000000</td>\n",
              "      <td>50.000000</td>\n",
              "      <td>38.000000</td>\n",
              "      <td>5.000000</td>\n",
              "      <td>60.000000</td>\n",
              "      <td>48.000000</td>\n",
              "      <td>999972.000000</td>\n",
              "      <td>38.000000</td>\n",
              "    </tr>\n",
              "  </tbody>\n",
              "</table>\n",
              "</div>"
            ],
            "text/plain": [
              "             item_id        waist  ...        user_id     shoe_size\n",
              "count   82790.000000  2882.000000  ...   82790.000000  27915.000000\n",
              "mean   469325.229170    31.319223  ...  498849.564718      8.145818\n",
              "std    213999.803314     5.302849  ...  286356.969459      1.336109\n",
              "min    123373.000000    20.000000  ...       6.000000      5.000000\n",
              "25%    314980.000000    28.000000  ...  252897.750000      7.000000\n",
              "50%    454030.000000    30.000000  ...  497913.500000      8.000000\n",
              "75%    658440.000000    34.000000  ...  744745.250000      9.000000\n",
              "max    807722.000000    50.000000  ...  999972.000000     38.000000\n",
              "\n",
              "[8 rows x 8 columns]"
            ]
          },
          "metadata": {
            "tags": []
          },
          "execution_count": 76
        }
      ]
    },
    {
      "cell_type": "markdown",
      "metadata": {
        "_uuid": "a96fec79cea18def7c1f2dfdd9b9d9aafc51b8bb",
        "id": "NqwGIv_0H37x"
      },
      "source": [
        "Some more important observations here, before we dive into performing the pre-processing tasks onto our data:\n",
        "* Bra_size, hips might not need to be a float- category dtype?\n",
        "* Most of the shoe sizes are around 5-9, but the maximum shoe size is 38! (It is surprising as the website uses UK shoe sizing.)\n",
        "* Size has a minimum of 0 and maximum Size matches the maximum shoe size.\n",
        "\n",
        "Let's visualize the numerical quantities in our dataset as boxplots, to have a better sense of the outliers.\n",
        "\n",
        "<a id=\"5\"></a>\n",
        "## Boxplot of numerical variables"
      ]
    },
    {
      "cell_type": "code",
      "metadata": {
        "trusted": true,
        "_uuid": "cd363c3bc0f41c8aff52ece76320448238007815",
        "_kg_hide-input": true,
        "id": "2UT03rxQH37y",
        "colab": {
          "base_uri": "https://localhost:8080/",
          "height": 544
        },
        "outputId": "f79b3e0d-46d6-4f04-ad00-d67da6db8412"
      },
      "source": [
        "num_cols= ['waist', 'mc_size', 'quality', 'hips', 'bra_size',\n",
        "       'shoe_size']\n",
        "plt.figure(figsize=(20,10))\n",
        "plt.title('Outlier identification')\n",
        "mc_df[num_cols].boxplot()\n",
        "plt.show()\n",
        "plt.close()"
      ],
      "execution_count": 77,
      "outputs": [
        {
          "output_type": "display_data",
          "data": {
            "image/png": "[encoded data removed]",
            "text/plain": [
              "<Figure size 1440x720 with 1 Axes>"
            ]
          },
          "metadata": {
            "tags": [],
            "needs_background": "light"
          }
        }
      ]
    },
    {
      "cell_type": "markdown",
      "metadata": {
        "_uuid": "b44f0dcc9640c6a6f23fc1504ddfb6ca9002fbca",
        "id": "fAZQ8BDKH372"
      },
      "source": [
        "<a id=\"6\"></a>\n",
        "## Handling Outliers\n",
        "\n",
        "* **shoe size**:\n",
        "We can clearly see that the single maximum value of shoe size (38) is an outlier and we should ideally remove that row or handle that outlier value. Let's take a look at that entry in our data."
      ]
    },
    {
      "cell_type": "code",
      "metadata": {
        "trusted": true,
        "_uuid": "fb102b3319b704cf43220c62a8b8083f55ae80dd",
        "_kg_hide-input": true,
        "_kg_hide-output": true,
        "id": "2bFK1YWRH374",
        "colab": {
          "base_uri": "https://localhost:8080/",
          "height": 151
        },
        "outputId": "702b1b98-7167-408a-e6a7-553e35c096c3"
      },
      "source": [
        "mc_df[mc_df['shoe_size']>15]"
      ],
      "execution_count": 78,
      "outputs": [
        {
          "output_type": "execute_result",
          "data": {
            "text/html": [
              "<div>\n",
              "<style scoped>\n",
              "    .dataframe tbody tr th:only-of-type {\n",
              "        vertical-align: middle;\n",
              "    }\n",
              "\n",
              "    .dataframe tbody tr th {\n",
              "        vertical-align: top;\n",
              "    }\n",
              "\n",
              "    .dataframe thead th {\n",
              "        text-align: right;\n",
              "    }\n",
              "</style>\n",
              "<table border=\"1\" class=\"dataframe\">\n",
              "  <thead>\n",
              "    <tr style=\"text-align: right;\">\n",
              "      <th></th>\n",
              "      <th>item_id</th>\n",
              "      <th>waist</th>\n",
              "      <th>mc_size</th>\n",
              "      <th>quality</th>\n",
              "      <th>cup_size</th>\n",
              "      <th>hips</th>\n",
              "      <th>bra_size</th>\n",
              "      <th>category</th>\n",
              "      <th>bust</th>\n",
              "      <th>height</th>\n",
              "      <th>user_name</th>\n",
              "      <th>length</th>\n",
              "      <th>fit</th>\n",
              "      <th>user_id</th>\n",
              "      <th>shoe_size</th>\n",
              "      <th>shoe_width</th>\n",
              "      <th>review_summary</th>\n",
              "      <th>review_text</th>\n",
              "    </tr>\n",
              "  </thead>\n",
              "  <tbody>\n",
              "    <tr>\n",
              "      <th>37313</th>\n",
              "      <td>416942</td>\n",
              "      <td>35.0</td>\n",
              "      <td>12</td>\n",
              "      <td>5.0</td>\n",
              "      <td>d</td>\n",
              "      <td>46.0</td>\n",
              "      <td>36.0</td>\n",
              "      <td>new</td>\n",
              "      <td>37-39</td>\n",
              "      <td>5ft 5in</td>\n",
              "      <td>Catslittle</td>\n",
              "      <td>just right</td>\n",
              "      <td>fit</td>\n",
              "      <td>237498</td>\n",
              "      <td>38.0</td>\n",
              "      <td>average</td>\n",
              "      <td>Cardigans are best item Mod Cloth has</td>\n",
              "      <td>I love these cardigans, my favorite, good fabr...</td>\n",
              "    </tr>\n",
              "  </tbody>\n",
              "</table>\n",
              "</div>"
            ],
            "text/plain": [
              "       item_id  ...                                        review_text\n",
              "37313   416942  ...  I love these cardigans, my favorite, good fabr...\n",
              "\n",
              "[1 rows x 18 columns]"
            ]
          },
          "metadata": {
            "tags": []
          },
          "execution_count": 78
        }
      ]
    },
    {
      "cell_type": "markdown",
      "metadata": {
        "_uuid": "1761fc49243bba1384fc66ab55e3ee768c328e11",
        "id": "V11CF-j0H38C"
      },
      "source": [
        ">We can see that the entry seems to be legit, except for the shoe size- it could be wrongly entered by the customer or simple noise. We'll enter this as null value for now."
      ]
    },
    {
      "cell_type": "code",
      "metadata": {
        "trusted": true,
        "_uuid": "83171c52966cbcbe26b5fc75deafe79806caa39b",
        "_kg_hide-output": true,
        "_kg_hide-input": true,
        "id": "ng5DABJtH38E"
      },
      "source": [
        "mc_df.at[37313, 'shoe_size']=None"
      ],
      "execution_count": 79,
      "outputs": []
    },
    {
      "cell_type": "markdown",
      "metadata": {
        "_uuid": "bbdb1af79fd95484393854a3b522fef8b77d1cf9",
        "id": "ZYEU8TJxH38J"
      },
      "source": [
        "* **bra size**:\n",
        "We can take a look at the top 10 bra-sizes (we can see that boxplot shows 2 values as outliers, as per the IQR- Inter-Quartile Range)."
      ]
    },
    {
      "cell_type": "code",
      "metadata": {
        "trusted": true,
        "_uuid": "9db3c56fc9fed7c0bb0169ab0437cee1297d9a2f",
        "_kg_hide-output": true,
        "scrolled": true,
        "id": "47rtUzXEH38L",
        "colab": {
          "base_uri": "https://localhost:8080/",
          "height": 496
        },
        "outputId": "c052c73d-f21b-4a89-a7f5-97241ef593d3"
      },
      "source": [
        "mc_df.sort_values(by='bra_size', ascending=False).head()"
      ],
      "execution_count": 80,
      "outputs": [
        {
          "output_type": "execute_result",
          "data": {
            "text/html": [
              "<div>\n",
              "<style scoped>\n",
              "    .dataframe tbody tr th:only-of-type {\n",
              "        vertical-align: middle;\n",
              "    }\n",
              "\n",
              "    .dataframe tbody tr th {\n",
              "        vertical-align: top;\n",
              "    }\n",
              "\n",
              "    .dataframe thead th {\n",
              "        text-align: right;\n",
              "    }\n",
              "</style>\n",
              "<table border=\"1\" class=\"dataframe\">\n",
              "  <thead>\n",
              "    <tr style=\"text-align: right;\">\n",
              "      <th></th>\n",
              "      <th>item_id</th>\n",
              "      <th>waist</th>\n",
              "      <th>mc_size</th>\n",
              "      <th>quality</th>\n",
              "      <th>cup_size</th>\n",
              "      <th>hips</th>\n",
              "      <th>bra_size</th>\n",
              "      <th>category</th>\n",
              "      <th>bust</th>\n",
              "      <th>height</th>\n",
              "      <th>user_name</th>\n",
              "      <th>length</th>\n",
              "      <th>fit</th>\n",
              "      <th>user_id</th>\n",
              "      <th>shoe_size</th>\n",
              "      <th>shoe_width</th>\n",
              "      <th>review_summary</th>\n",
              "      <th>review_text</th>\n",
              "    </tr>\n",
              "  </thead>\n",
              "  <tbody>\n",
              "    <tr>\n",
              "      <th>73118</th>\n",
              "      <td>753429</td>\n",
              "      <td>NaN</td>\n",
              "      <td>38</td>\n",
              "      <td>3.0</td>\n",
              "      <td>dd/e</td>\n",
              "      <td>NaN</td>\n",
              "      <td>48.0</td>\n",
              "      <td>bottoms</td>\n",
              "      <td>NaN</td>\n",
              "      <td>5ft 4in</td>\n",
              "      <td>Mikki</td>\n",
              "      <td>slightly long</td>\n",
              "      <td>large</td>\n",
              "      <td>93792</td>\n",
              "      <td>NaN</td>\n",
              "      <td>NaN</td>\n",
              "      <td>I probably should have or</td>\n",
              "      <td>I probably should have ordered a size down, bu...</td>\n",
              "    </tr>\n",
              "    <tr>\n",
              "      <th>80713</th>\n",
              "      <td>796383</td>\n",
              "      <td>NaN</td>\n",
              "      <td>12</td>\n",
              "      <td>4.0</td>\n",
              "      <td>k</td>\n",
              "      <td>60.0</td>\n",
              "      <td>48.0</td>\n",
              "      <td>outerwear</td>\n",
              "      <td>NaN</td>\n",
              "      <td>7ft 11in</td>\n",
              "      <td>bandnerd2522</td>\n",
              "      <td>just right</td>\n",
              "      <td>small</td>\n",
              "      <td>810539</td>\n",
              "      <td>11.5</td>\n",
              "      <td>average</td>\n",
              "      <td>This jacket is lovely, bu</td>\n",
              "      <td>This jacket is lovely, but I couldn't move my ...</td>\n",
              "    </tr>\n",
              "    <tr>\n",
              "      <th>28901</th>\n",
              "      <td>401773</td>\n",
              "      <td>NaN</td>\n",
              "      <td>38</td>\n",
              "      <td>4.0</td>\n",
              "      <td>dd/e</td>\n",
              "      <td>58.0</td>\n",
              "      <td>48.0</td>\n",
              "      <td>new</td>\n",
              "      <td>NaN</td>\n",
              "      <td>5ft 7in</td>\n",
              "      <td>barretts4jesus</td>\n",
              "      <td>just right</td>\n",
              "      <td>fit</td>\n",
              "      <td>59963</td>\n",
              "      <td>NaN</td>\n",
              "      <td>NaN</td>\n",
              "      <td>Wonderful cardigan. I hav</td>\n",
              "      <td>Wonderful cardigan. I have the honey one as we...</td>\n",
              "    </tr>\n",
              "    <tr>\n",
              "      <th>71407</th>\n",
              "      <td>726492</td>\n",
              "      <td>NaN</td>\n",
              "      <td>15</td>\n",
              "      <td>3.0</td>\n",
              "      <td>k</td>\n",
              "      <td>60.0</td>\n",
              "      <td>48.0</td>\n",
              "      <td>bottoms</td>\n",
              "      <td>NaN</td>\n",
              "      <td>7ft 11in</td>\n",
              "      <td>bandnerd2522</td>\n",
              "      <td>slightly short</td>\n",
              "      <td>fit</td>\n",
              "      <td>708288</td>\n",
              "      <td>11.5</td>\n",
              "      <td>average</td>\n",
              "      <td>The pattern is just as lo</td>\n",
              "      <td>The pattern is just as lovely in person, as in...</td>\n",
              "    </tr>\n",
              "    <tr>\n",
              "      <th>38125</th>\n",
              "      <td>417269</td>\n",
              "      <td>NaN</td>\n",
              "      <td>38</td>\n",
              "      <td>3.0</td>\n",
              "      <td>d</td>\n",
              "      <td>35.0</td>\n",
              "      <td>48.0</td>\n",
              "      <td>new</td>\n",
              "      <td>NaN</td>\n",
              "      <td>5ft 9in</td>\n",
              "      <td>Susan</td>\n",
              "      <td>just right</td>\n",
              "      <td>large</td>\n",
              "      <td>308819</td>\n",
              "      <td>NaN</td>\n",
              "      <td>NaN</td>\n",
              "      <td>I wish I could have gotte</td>\n",
              "      <td>I wish I could have gotten the 3x but it's sti...</td>\n",
              "    </tr>\n",
              "  </tbody>\n",
              "</table>\n",
              "</div>"
            ],
            "text/plain": [
              "       item_id  ...                                        review_text\n",
              "73118   753429  ...  I probably should have ordered a size down, bu...\n",
              "80713   796383  ...  This jacket is lovely, but I couldn't move my ...\n",
              "28901   401773  ...  Wonderful cardigan. I have the honey one as we...\n",
              "71407   726492  ...  The pattern is just as lovely in person, as in...\n",
              "38125   417269  ...  I wish I could have gotten the 3x but it's sti...\n",
              "\n",
              "[5 rows x 18 columns]"
            ]
          },
          "metadata": {
            "tags": []
          },
          "execution_count": 80
        }
      ]
    },
    {
      "cell_type": "markdown",
      "metadata": {
        "_uuid": "3ec8bdb5989d3697676776b58d133176d12ef74b",
        "id": "1zeyPK2eH38S"
      },
      "source": [
        "<a id=\"7\"></a>\n",
        "## Joint Distribution of bra_size vs size\n",
        "We can visualize the distribution of bra_size vs size (bivariate) to have an understanding about the values."
      ]
    },
    {
      "cell_type": "code",
      "metadata": {
        "trusted": true,
        "_uuid": "033783bfb3a124311c3052696c110cd104f12cce",
        "_kg_hide-input": true,
        "id": "bDbf27IrH38T",
        "colab": {
          "base_uri": "https://localhost:8080/",
          "height": 521
        },
        "outputId": "f71aa549-2b0d-4032-c650-ffd1b65c881d"
      },
      "source": [
        "# YOUR CODE HERE\n",
        "plt.figure(figsize=(18,8))\n",
        "plt.title('Joint Distribution- Bra Size and Shoe Size')\n",
        "plt.xlabel('Bra size')\n",
        "plt.ylabel('MC Size')\n",
        "plt.plot(mc_df['bra_size'], mc_df['mc_size'], 'bo')"
      ],
      "execution_count": 81,
      "outputs": [
        {
          "output_type": "execute_result",
          "data": {
            "text/plain": [
              "[<matplotlib.lines.Line2D at 0x7f114f605c50>]"
            ]
          },
          "metadata": {
            "tags": []
          },
          "execution_count": 81
        },
        {
          "output_type": "display_data",
          "data": {
            "image/png": "[encoded data removed]",
            "text/plain": [
              "<Figure size 1296x576 with 1 Axes>"
            ]
          },
          "metadata": {
            "tags": [],
            "needs_background": "light"
          }
        }
      ]
    },
    {
      "cell_type": "markdown",
      "metadata": {
        "_uuid": "9e73d7b2324d3b6fc33a7c847d5ab33c18ef7804",
        "id": "OKqE80aDH38a"
      },
      "source": [
        ">We can't see any significant deviation from usual behavior for bra-size, infact for all other numerical variables as well- we can expect the 'apparent' outliers, from the boxplot, to behave similarly. Now, we 'll head to preprocessing the dataset for suitable visualizations.\n",
        "\n",
        "<a id=\"8\"></a>\n",
        "# Data Cleaning & Pre-processing\n",
        "Let's handle the variables and change the dtype to the appropriate type for each column. We define a function first for creating the distribution plot of different variables. Here, is the initial distribution of features.\n",
        "\n",
        "**Note: The final distribution plots are [below](#dist_plots).**\n",
        "\n",
        "<a id=\"9\"></a>\n",
        "### Initial Distribution of features"
      ]
    },
    {
      "cell_type": "code",
      "metadata": {
        "_kg_hide-input": true,
        "trusted": true,
        "_uuid": "d1ea1457cda3c52fd451c2c39dcfe12d0dac185b",
        "id": "qnPqSMOYH38c"
      },
      "source": [
        "def dist_plot(col, ax):\n",
        "  mc_df[col][mc_df[col].notnull()].value_counts().plot(kind='bar', facecolor='g', ax=ax)\n",
        "  return ax"
      ],
      "execution_count": 82,
      "outputs": []
    },
    {
      "cell_type": "code",
      "metadata": {
        "id": "XATmxxu5fOpl",
        "colab": {
          "base_uri": "https://localhost:8080/",
          "height": 816
        },
        "outputId": "757d5cd6-b84d-4995-a6b9-de37920a6da2"
      },
      "source": [
        "f, ax= plt.subplots(3, 3, figsize=(20, 15))\n",
        "col=['bra_size', 'bust', 'category', 'cup_size', 'height', 'quality', 'fit', 'hips', 'length']\n",
        "counter=0\n",
        "for i in range(3):\n",
        "  for j in range(3):\n",
        "    dist_plot(col[counter], ax[i][j])\n",
        "    counter+=1"
      ],
      "execution_count": 83,
      "outputs": [
        {
          "output_type": "display_data",
          "data": {
            "image/png": "[encoded data removed]",
            "text/plain": [
              "<Figure size 1440x1080 with 9 Axes>"
            ]
          },
          "metadata": {
            "tags": [],
            "needs_background": "light"
          }
        }
      ]
    },
    {
      "cell_type": "markdown",
      "metadata": {
        "_uuid": "c2dc7e1e87c8c517abaa34edc0f1dbea305c41fe",
        "id": "rFtW-t5eH38j"
      },
      "source": [
        "<a id=\"10\"></a>\n",
        "### Step-by-step features processing:\n",
        "* **bra_size:** Although it looks numerical, it only ranges from 28 to 48, with most of the sizing lying around 34-38. It makes sense to convert this to *categorical* dtype. We'll fill the NA values into an 'Unknown' category. We can see above that most of the buyers have a bra-sizing of 34 or 36.\n",
        "* **bust**- We can see by looking at the values which are not null, that bust should be an integer dtype. We also need to handle a special case where bust is given as - '37-39'. We'll replace the entry of '37-39' with the mean, i.e.- 38, for analysis purposes. Now we can safely convert the dtype to int. However, considering that **roughly 86% of the bust data is missing**, eventually it was decided to remove this feature.\n",
        "* **category**- none missing; change to dtype *category*.\n",
        "* **cup size**- Change the dtype to *category* for this column. This col has around 7% missing values. Taking a look at the rows where this value is missing might hint us towards how to handle these missing values."
      ]
    },
    {
      "cell_type": "code",
      "metadata": {
        "_kg_hide-input": true,
        "trusted": true,
        "_uuid": "ee223d46ac4cae59bef94a72d2f46e9b3d9411b1",
        "id": "pqMiN5IDH38k"
      },
      "source": [
        "mc_df['bra_size']=mc_df['bra_size'].fillna('Unknown')\n",
        "mc_df['bra_size']= mc_df['bra_size'].astype('category').cat.as_ordered()\n",
        "mc_df.at[37313, 'bust']='38'\n",
        "mc_df['bust']= mc_df['bust'].fillna(0).astype(int)\n",
        "mc_df['category']= mc_df['category'].astype('category')"
      ],
      "execution_count": 84,
      "outputs": []
    },
    {
      "cell_type": "code",
      "metadata": {
        "_kg_hide-output": true,
        "trusted": true,
        "_uuid": "a921aa77e0302b16d33a449b21888b38849a5976",
        "scrolled": true,
        "id": "IeLN8WEZH38q",
        "colab": {
          "base_uri": "https://localhost:8080/"
        },
        "outputId": "a8a49395-161f-4bcd-95a3-89824727396a"
      },
      "source": [
        "mc_df.info()"
      ],
      "execution_count": 85,
      "outputs": [
        {
          "output_type": "stream",
          "text": [
            "<class 'pandas.core.frame.DataFrame'>\n",
            "RangeIndex: 82790 entries, 0 to 82789\n",
            "Data columns (total 18 columns):\n",
            " #   Column          Non-Null Count  Dtype   \n",
            "---  ------          --------------  -----   \n",
            " 0   item_id         82790 non-null  int64   \n",
            " 1   waist           2882 non-null   float64 \n",
            " 2   mc_size         82790 non-null  int64   \n",
            " 3   quality         82722 non-null  float64 \n",
            " 4   cup_size        76535 non-null  object  \n",
            " 5   hips            56064 non-null  float64 \n",
            " 6   bra_size        82790 non-null  category\n",
            " 7   category        82790 non-null  category\n",
            " 8   bust            82790 non-null  int64   \n",
            " 9   height          81683 non-null  object  \n",
            " 10  user_name       82790 non-null  object  \n",
            " 11  length          82755 non-null  object  \n",
            " 12  fit             82790 non-null  object  \n",
            " 13  user_id         82790 non-null  int64   \n",
            " 14  shoe_size       27914 non-null  float64 \n",
            " 15  shoe_width      18607 non-null  object  \n",
            " 16  review_summary  76065 non-null  object  \n",
            " 17  review_text     76065 non-null  object  \n",
            "dtypes: category(2), float64(4), int64(4), object(8)\n",
            "memory usage: 10.3+ MB\n"
          ],
          "name": "stdout"
        }
      ]
    },
    {
      "cell_type": "markdown",
      "metadata": {
        "_uuid": "806df50e7ebae0c3fa8296592a8566a080ec9b92",
        "id": "QLwSr2fCH38x"
      },
      "source": [
        ">We can't see anything glaring from the rows where this data is missing, however, as per the curator of the dataset- \"***Note that these datasets are highly sparse, with most products and customers having only a single transaction.***\" It does point to that maybe these customers have not bought lingerie from modcloth yet and so modcloth does not have that data. So, it makes sense to fill these null values as 'Unknown'. From the prevalence of the values like dd/e, ddd/f, and dddd/g, we can assume these to be legit cup_sizes, also confirmed by [**this**](https://www.herroom.com/full-figure-bra-cup-sizing,905,30.html) article, where some brands change the cup size dd to e, ddd to f etc. We can directly convert this to *category* dtype."
      ]
    },
    {
      "cell_type": "code",
      "metadata": {
        "id": "u8qA74o-ldZK"
      },
      "source": [
        "mc_df.cup_size.fillna('Unknown', inplace=True)\n",
        "mc_df.cup_size= mc_df.cup_size.astype('category').cat.as_ordered()\n",
        "\n"
      ],
      "execution_count": 86,
      "outputs": []
    },
    {
      "cell_type": "code",
      "metadata": {
        "id": "H0dGscgjmoIM",
        "colab": {
          "base_uri": "https://localhost:8080/"
        },
        "outputId": "8bb66e05-da0f-460f-8d01-07db392ddae0"
      },
      "source": [
        "mc_df.info()"
      ],
      "execution_count": 87,
      "outputs": [
        {
          "output_type": "stream",
          "text": [
            "<class 'pandas.core.frame.DataFrame'>\n",
            "RangeIndex: 82790 entries, 0 to 82789\n",
            "Data columns (total 18 columns):\n",
            " #   Column          Non-Null Count  Dtype   \n",
            "---  ------          --------------  -----   \n",
            " 0   item_id         82790 non-null  int64   \n",
            " 1   waist           2882 non-null   float64 \n",
            " 2   mc_size         82790 non-null  int64   \n",
            " 3   quality         82722 non-null  float64 \n",
            " 4   cup_size        82790 non-null  category\n",
            " 5   hips            56064 non-null  float64 \n",
            " 6   bra_size        82790 non-null  category\n",
            " 7   category        82790 non-null  category\n",
            " 8   bust            82790 non-null  int64   \n",
            " 9   height          81683 non-null  object  \n",
            " 10  user_name       82790 non-null  object  \n",
            " 11  length          82755 non-null  object  \n",
            " 12  fit             82790 non-null  object  \n",
            " 13  user_id         82790 non-null  int64   \n",
            " 14  shoe_size       27914 non-null  float64 \n",
            " 15  shoe_width      18607 non-null  object  \n",
            " 16  review_summary  76065 non-null  object  \n",
            " 17  review_text     76065 non-null  object  \n",
            "dtypes: category(3), float64(4), int64(4), object(7)\n",
            "memory usage: 9.7+ MB\n"
          ],
          "name": "stdout"
        }
      ]
    },
    {
      "cell_type": "markdown",
      "metadata": {
        "_uuid": "db91371bb6c87d77d2579eb77c0d912260c6ad67",
        "id": "1lEqCXK0H38y"
      },
      "source": [
        "* **fit**- Change the dtype to *category* for this column. We can see that a vast majority of customers gave a good 'fit' feedback for the items on Modcloth!"
      ]
    },
    {
      "cell_type": "code",
      "metadata": {
        "_kg_hide-input": true,
        "trusted": true,
        "_uuid": "b3d9b0dc9fd2e41d464f124c81b532e6246cba21",
        "id": "xQW5WVwQH38z"
      },
      "source": [
        "mc_df.fit= mc_df.fit.astype('category')"
      ],
      "execution_count": 88,
      "outputs": []
    },
    {
      "cell_type": "markdown",
      "metadata": {
        "_uuid": "aed23a62601b5861862241f6a73f921d3ec3db30",
        "id": "hI41hf0_H383"
      },
      "source": [
        "* **height**- We need to parse the height column as currently it is a string object, of the form - Xft. Yin. It will make sense to convert height to cms. We also take a look at the rows where the height data is missing."
      ]
    },
    {
      "cell_type": "code",
      "metadata": {
        "_kg_hide-input": true,
        "trusted": true,
        "_uuid": "a996e7260b78b3e3594c67b49d36db0936478289",
        "id": "4wsF9l8wH383"
      },
      "source": [
        "def get_cms(val):\n",
        "  if type(val)==type(1.0):\n",
        "    return \n",
        "  try:\n",
        "    return (int(val[0])*30.48 + int(val[4:-2])*2.54)\n",
        "  except:\n",
        "    return (int(val[0])*30.48)\n"
      ],
      "execution_count": 89,
      "outputs": []
    },
    {
      "cell_type": "code",
      "metadata": {
        "_kg_hide-output": true,
        "trusted": true,
        "_uuid": "f93d60257e5e06e48bb93070fd308b3c206d8986",
        "scrolled": true,
        "id": "d5mM_XUNH39B",
        "colab": {
          "base_uri": "https://localhost:8080/",
          "height": 728
        },
        "outputId": "865b1fd7-e3f7-41ba-9c44-44a91427d754"
      },
      "source": [
        "\n",
        "mc_df.height= mc_df.height.apply(get_cms)\n",
        "mc_df"
      ],
      "execution_count": 90,
      "outputs": [
        {
          "output_type": "execute_result",
          "data": {
            "text/html": [
              "<div>\n",
              "<style scoped>\n",
              "    .dataframe tbody tr th:only-of-type {\n",
              "        vertical-align: middle;\n",
              "    }\n",
              "\n",
              "    .dataframe tbody tr th {\n",
              "        vertical-align: top;\n",
              "    }\n",
              "\n",
              "    .dataframe thead th {\n",
              "        text-align: right;\n",
              "    }\n",
              "</style>\n",
              "<table border=\"1\" class=\"dataframe\">\n",
              "  <thead>\n",
              "    <tr style=\"text-align: right;\">\n",
              "      <th></th>\n",
              "      <th>item_id</th>\n",
              "      <th>waist</th>\n",
              "      <th>mc_size</th>\n",
              "      <th>quality</th>\n",
              "      <th>cup_size</th>\n",
              "      <th>hips</th>\n",
              "      <th>bra_size</th>\n",
              "      <th>category</th>\n",
              "      <th>bust</th>\n",
              "      <th>height</th>\n",
              "      <th>user_name</th>\n",
              "      <th>length</th>\n",
              "      <th>fit</th>\n",
              "      <th>user_id</th>\n",
              "      <th>shoe_size</th>\n",
              "      <th>shoe_width</th>\n",
              "      <th>review_summary</th>\n",
              "      <th>review_text</th>\n",
              "    </tr>\n",
              "  </thead>\n",
              "  <tbody>\n",
              "    <tr>\n",
              "      <th>0</th>\n",
              "      <td>123373</td>\n",
              "      <td>29.0</td>\n",
              "      <td>7</td>\n",
              "      <td>5.0</td>\n",
              "      <td>d</td>\n",
              "      <td>38.0</td>\n",
              "      <td>34</td>\n",
              "      <td>new</td>\n",
              "      <td>36</td>\n",
              "      <td>167.64</td>\n",
              "      <td>Emily</td>\n",
              "      <td>just right</td>\n",
              "      <td>small</td>\n",
              "      <td>991571</td>\n",
              "      <td>NaN</td>\n",
              "      <td>NaN</td>\n",
              "      <td>NaN</td>\n",
              "      <td>NaN</td>\n",
              "    </tr>\n",
              "    <tr>\n",
              "      <th>1</th>\n",
              "      <td>123373</td>\n",
              "      <td>31.0</td>\n",
              "      <td>13</td>\n",
              "      <td>3.0</td>\n",
              "      <td>b</td>\n",
              "      <td>30.0</td>\n",
              "      <td>36</td>\n",
              "      <td>new</td>\n",
              "      <td>0</td>\n",
              "      <td>157.48</td>\n",
              "      <td>sydneybraden2001</td>\n",
              "      <td>just right</td>\n",
              "      <td>small</td>\n",
              "      <td>587883</td>\n",
              "      <td>NaN</td>\n",
              "      <td>NaN</td>\n",
              "      <td>NaN</td>\n",
              "      <td>NaN</td>\n",
              "    </tr>\n",
              "    <tr>\n",
              "      <th>2</th>\n",
              "      <td>123373</td>\n",
              "      <td>30.0</td>\n",
              "      <td>7</td>\n",
              "      <td>2.0</td>\n",
              "      <td>b</td>\n",
              "      <td>NaN</td>\n",
              "      <td>32</td>\n",
              "      <td>new</td>\n",
              "      <td>0</td>\n",
              "      <td>170.18</td>\n",
              "      <td>Ugggh</td>\n",
              "      <td>slightly long</td>\n",
              "      <td>small</td>\n",
              "      <td>395665</td>\n",
              "      <td>9.0</td>\n",
              "      <td>NaN</td>\n",
              "      <td>NaN</td>\n",
              "      <td>NaN</td>\n",
              "    </tr>\n",
              "    <tr>\n",
              "      <th>3</th>\n",
              "      <td>123373</td>\n",
              "      <td>NaN</td>\n",
              "      <td>21</td>\n",
              "      <td>5.0</td>\n",
              "      <td>dd/e</td>\n",
              "      <td>NaN</td>\n",
              "      <td>Unknown</td>\n",
              "      <td>new</td>\n",
              "      <td>0</td>\n",
              "      <td>NaN</td>\n",
              "      <td>alexmeyer626</td>\n",
              "      <td>just right</td>\n",
              "      <td>fit</td>\n",
              "      <td>875643</td>\n",
              "      <td>NaN</td>\n",
              "      <td>NaN</td>\n",
              "      <td>NaN</td>\n",
              "      <td>NaN</td>\n",
              "    </tr>\n",
              "    <tr>\n",
              "      <th>4</th>\n",
              "      <td>123373</td>\n",
              "      <td>NaN</td>\n",
              "      <td>18</td>\n",
              "      <td>5.0</td>\n",
              "      <td>b</td>\n",
              "      <td>NaN</td>\n",
              "      <td>36</td>\n",
              "      <td>new</td>\n",
              "      <td>0</td>\n",
              "      <td>157.48</td>\n",
              "      <td>dberrones1</td>\n",
              "      <td>slightly long</td>\n",
              "      <td>small</td>\n",
              "      <td>944840</td>\n",
              "      <td>NaN</td>\n",
              "      <td>NaN</td>\n",
              "      <td>NaN</td>\n",
              "      <td>NaN</td>\n",
              "    </tr>\n",
              "    <tr>\n",
              "      <th>...</th>\n",
              "      <td>...</td>\n",
              "      <td>...</td>\n",
              "      <td>...</td>\n",
              "      <td>...</td>\n",
              "      <td>...</td>\n",
              "      <td>...</td>\n",
              "      <td>...</td>\n",
              "      <td>...</td>\n",
              "      <td>...</td>\n",
              "      <td>...</td>\n",
              "      <td>...</td>\n",
              "      <td>...</td>\n",
              "      <td>...</td>\n",
              "      <td>...</td>\n",
              "      <td>...</td>\n",
              "      <td>...</td>\n",
              "      <td>...</td>\n",
              "      <td>...</td>\n",
              "    </tr>\n",
              "    <tr>\n",
              "      <th>82785</th>\n",
              "      <td>807722</td>\n",
              "      <td>NaN</td>\n",
              "      <td>8</td>\n",
              "      <td>4.0</td>\n",
              "      <td>b</td>\n",
              "      <td>NaN</td>\n",
              "      <td>36</td>\n",
              "      <td>outerwear</td>\n",
              "      <td>0</td>\n",
              "      <td>172.72</td>\n",
              "      <td>Jennifer</td>\n",
              "      <td>just right</td>\n",
              "      <td>fit</td>\n",
              "      <td>727820</td>\n",
              "      <td>8.5</td>\n",
              "      <td>average</td>\n",
              "      <td>Cute jacket!</td>\n",
              "      <td>Cute jacket!</td>\n",
              "    </tr>\n",
              "    <tr>\n",
              "      <th>82786</th>\n",
              "      <td>807722</td>\n",
              "      <td>NaN</td>\n",
              "      <td>12</td>\n",
              "      <td>5.0</td>\n",
              "      <td>ddd/f</td>\n",
              "      <td>NaN</td>\n",
              "      <td>34</td>\n",
              "      <td>outerwear</td>\n",
              "      <td>0</td>\n",
              "      <td>165.10</td>\n",
              "      <td>Kelli</td>\n",
              "      <td>slightly long</td>\n",
              "      <td>small</td>\n",
              "      <td>197040</td>\n",
              "      <td>NaN</td>\n",
              "      <td>NaN</td>\n",
              "      <td>It's a beautiful jacket.</td>\n",
              "      <td>It's a beautiful jacket. I love how it's knit ...</td>\n",
              "    </tr>\n",
              "    <tr>\n",
              "      <th>82787</th>\n",
              "      <td>807722</td>\n",
              "      <td>NaN</td>\n",
              "      <td>12</td>\n",
              "      <td>5.0</td>\n",
              "      <td>dddd/g</td>\n",
              "      <td>36.0</td>\n",
              "      <td>32</td>\n",
              "      <td>outerwear</td>\n",
              "      <td>0</td>\n",
              "      <td>162.56</td>\n",
              "      <td>elacount</td>\n",
              "      <td>just right</td>\n",
              "      <td>fit</td>\n",
              "      <td>102493</td>\n",
              "      <td>NaN</td>\n",
              "      <td>NaN</td>\n",
              "      <td>I love this blazer. It is</td>\n",
              "      <td>I love this blazer. It is a great office piece...</td>\n",
              "    </tr>\n",
              "    <tr>\n",
              "      <th>82788</th>\n",
              "      <td>807722</td>\n",
              "      <td>NaN</td>\n",
              "      <td>12</td>\n",
              "      <td>4.0</td>\n",
              "      <td>Unknown</td>\n",
              "      <td>NaN</td>\n",
              "      <td>Unknown</td>\n",
              "      <td>outerwear</td>\n",
              "      <td>0</td>\n",
              "      <td>160.02</td>\n",
              "      <td>jennaklinner</td>\n",
              "      <td>just right</td>\n",
              "      <td>fit</td>\n",
              "      <td>756491</td>\n",
              "      <td>NaN</td>\n",
              "      <td>NaN</td>\n",
              "      <td>I love this blazer!! I wo</td>\n",
              "      <td>I love this blazer!! I wore it yesterday and g...</td>\n",
              "    </tr>\n",
              "    <tr>\n",
              "      <th>82789</th>\n",
              "      <td>807722</td>\n",
              "      <td>NaN</td>\n",
              "      <td>4</td>\n",
              "      <td>4.0</td>\n",
              "      <td>d</td>\n",
              "      <td>39.0</td>\n",
              "      <td>32</td>\n",
              "      <td>outerwear</td>\n",
              "      <td>0</td>\n",
              "      <td>182.88</td>\n",
              "      <td>maireadsteadman</td>\n",
              "      <td>just right</td>\n",
              "      <td>fit</td>\n",
              "      <td>78305</td>\n",
              "      <td>NaN</td>\n",
              "      <td>NaN</td>\n",
              "      <td>I love this piece. I'm re</td>\n",
              "      <td>I love this piece. I'm really happy with it!</td>\n",
              "    </tr>\n",
              "  </tbody>\n",
              "</table>\n",
              "<p>82790 rows × 18 columns</p>\n",
              "</div>"
            ],
            "text/plain": [
              "       item_id  ...                                        review_text\n",
              "0       123373  ...                                                NaN\n",
              "1       123373  ...                                                NaN\n",
              "2       123373  ...                                                NaN\n",
              "3       123373  ...                                                NaN\n",
              "4       123373  ...                                                NaN\n",
              "...        ...  ...                                                ...\n",
              "82785   807722  ...                                       Cute jacket!\n",
              "82786   807722  ...  It's a beautiful jacket. I love how it's knit ...\n",
              "82787   807722  ...  I love this blazer. It is a great office piece...\n",
              "82788   807722  ...  I love this blazer!! I wore it yesterday and g...\n",
              "82789   807722  ...       I love this piece. I'm really happy with it!\n",
              "\n",
              "[82790 rows x 18 columns]"
            ]
          },
          "metadata": {
            "tags": []
          },
          "execution_count": 90
        }
      ]
    },
    {
      "cell_type": "markdown",
      "metadata": {
        "_uuid": "83ce06c35d55462861a00e75efb724153106870f",
        "id": "eQR1c3J4H39F"
      },
      "source": [
        "> This filtering gives us interesting observations here:\n",
        "> 1. Some customers have given bra_size, cup_size data, whereas all other measurements are empty- possible first-time purchase at Modcloth for lingerie!\n",
        "> 2. Some customers have given shoe_size and all other measurements are empty- possible first-time purchase at Modcloth for shoes!\n",
        ">     \n",
        "> It leads us to saying that there are some first-time buyers in the dataset, also talked about by the authors of the data in [1]- about the sparsity of the data due to 1 transactions! Also, as we have no data about the height of these customers, it only makes sense to leave the missing values in the column as it is and **possibly remove these rows for future statistical modeling.** We have removed the corresponding rows.\n",
        ">\n",
        ">\n",
        "><a id=\"11\"></a>\n",
        "> # Feature Engineering \n",
        "> ## Creating a new feature of first_time_user\n",
        "> \n",
        "> Building on our observations above, it makes sense to identify the transactions which belong to first time users. We use the following logic to identify such trxns:\n",
        "> * If bra_size/cup_size have a value and height, hips, shoe_size, shoe_width and waist do not- it is a first time buyer of lingerie.\n",
        "> * If shoe_size/shoe_width have a value and bra_size, cup_size, height, hips, and waist do not- it is a first time buyer of shoes.\n",
        "> * If hips/waist have a value and bra_size, cup_size, height, shoe_size, and shoe_width do not- it is a first time buyer of a dress/tops.\n",
        "> \n",
        "> Below we will verify the above logic, with samples, before we create the new feature.\n",
        "> \n",
        "> **1. Looking at the few rows where either bra_size or cup_size exists, but no other measurements are available.**\n",
        ">\n",
        ">**2. Looking at the few rows where either shoe_size or shoe_width exists, but no other measurements are available.**\n",
        ">\n",
        ">**3. Looking at the few rows where either hips or waist exists, but no other measurements are available.**"
      ]
    },
    {
      "cell_type": "code",
      "metadata": {
        "_kg_hide-input": true,
        "trusted": true,
        "_uuid": "e1fa8f4fb65b49602086147c1c4dece7fdc7a2cf",
        "_kg_hide-output": true,
        "id": "JNw2ZCtcH39G"
      },
      "source": [
        "lingerie_cond= (mc_df['bra_size'] != 'Unknown')| (mc_df['cup_size'] != 'Unknown') & mc_df['height'].isnull() & mc_df['hips'].isnull() & mc_df['shoe_size'].isnull() & mc_df['shoe_width'].isnull() & mc_df['waist'].isnull()"
      ],
      "execution_count": 91,
      "outputs": []
    },
    {
      "cell_type": "code",
      "metadata": {
        "id": "Da32Tzu2Jfsv"
      },
      "source": [
        "shoe_cond= (mc_df['shoe_size'].notnull())| (mc_df['shoe_width'].notnull()) & (mc_df['bra_size']=='Unknown') & (mc_df['hips'].isnull()) & (mc_df['cup_size']=='Unknown') & (mc_df['height'].isnull()) & mc_df['waist'].isnull()"
      ],
      "execution_count": 92,
      "outputs": []
    },
    {
      "cell_type": "markdown",
      "metadata": {
        "_uuid": "6444762751d31966aeebd91e029d93e2f96d8412",
        "id": "HmYwXe8WH39K"
      },
      "source": [
        ">Now we add a new column to the original data- *first_time_user*, which is a bool feature which indicates if a user, of a transaction, is a first-time user or not. This is based on the grounds that Modcloth has no previous information about the person, infact it is possible that the new user did multiple transactions in the first time!"
      ]
    },
    {
      "cell_type": "code",
      "metadata": {
        "id": "7Q1CF-rTMB2U"
      },
      "source": [
        "dress_cond=(mc_df['hips'].notnull())| (mc_df['waist'].notnull()) & (mc_df['bra_size']=='Unknown') & (mc_df['shoe_size'].isnull()) & (mc_df['cup_size']=='Unknown') & (mc_df['height'].isnull()) & mc_df['shoe_width'].isnull()"
      ],
      "execution_count": 93,
      "outputs": []
    },
    {
      "cell_type": "code",
      "metadata": {
        "colab": {
          "base_uri": "https://localhost:8080/"
        },
        "id": "vGjaP-x5MqdG",
        "outputId": "6fb2ad3f-98c7-4145-a31f-b3de9d7ab70b"
      },
      "source": [
        "mc_df['first_time_user']=(lingerie_cond|dress_cond|shoe_cond)\n",
        "print(mc_df)"
      ],
      "execution_count": 94,
      "outputs": [
        {
          "output_type": "stream",
          "text": [
            "       item_id  ...  first_time_user\n",
            "0       123373  ...             True\n",
            "1       123373  ...             True\n",
            "2       123373  ...             True\n",
            "3       123373  ...             True\n",
            "4       123373  ...             True\n",
            "...        ...  ...              ...\n",
            "82785   807722  ...             True\n",
            "82786   807722  ...             True\n",
            "82787   807722  ...             True\n",
            "82788   807722  ...            False\n",
            "82789   807722  ...             True\n",
            "\n",
            "[82790 rows x 19 columns]\n"
          ],
          "name": "stdout"
        }
      ]
    },
    {
      "cell_type": "markdown",
      "metadata": {
        "_uuid": "ab2f779e5a84f99d02fd837d0f436cb81981c2f3",
        "id": "HzjVCvbHH39S"
      },
      "source": [
        "* **hips**-\n",
        "Hips column has a lot of missing values ~ 32.28%! We know this data would possibly be missing because Modcloth never got this data from the user most probably. We cannot remove such a significant chunk of the data, so we need another way of handling this feature. We will bin the data- on the basis of quartiles.\n",
        "* **length**- There are only 35 missing rows in length, we'll take a look at these. We saw that most probably the customers did not leave behind the feedback or the data was corrupted in these rows. However, we should be able to impute these values using review related fields (if they are filled!). Or we could also simply choose to remove these rows. For the sake of this analysis, we will remove these rows.\n",
        "* **quality**- There are only 68 missing rows in quality, we'll took a look at these. Similarly to length, the customers did not leave behind the feedback or the data was corrupted in these rows. We will remove these rows and convert the dtype to an ordinal variable (ordered categorical)."
      ]
    },
    {
      "cell_type": "code",
      "metadata": {
        "_kg_hide-input": true,
        "trusted": true,
        "_uuid": "736a8fd83468caadb92fcfd9d759642e9397f2ae",
        "id": "T-JR1xU7H39T",
        "colab": {
          "base_uri": "https://localhost:8080/",
          "height": 422
        },
        "outputId": "bdcde160-d2d8-414b-89a3-fa1432940572"
      },
      "source": [
        "mc_df.hips= mc_df.hips.fillna(-1.0)\n",
        "plt.hist(mc_df.hips)\n",
        "plt.show()"
      ],
      "execution_count": 95,
      "outputs": [
        {
          "output_type": "display_data",
          "data": {
            "image/png": "[encoded data removed]",
            "text/plain": [
              "<Figure size 1440x576 with 1 Axes>"
            ]
          },
          "metadata": {
            "tags": [],
            "needs_background": "light"
          }
        }
      ]
    },
    {
      "cell_type": "code",
      "metadata": {
        "colab": {
          "base_uri": "https://localhost:8080/"
        },
        "id": "byRvlNpOO74f",
        "outputId": "4a39c9e5-d6cc-4e43-ef79-8a9332e7c91d"
      },
      "source": [
        "bins=[-5, 0, 31, 37, 40, 44, 75]\n",
        "labels= ['Unknown', 'XS', 'S', 'M', 'L', 'XL']\n",
        "mc_df.hips= pd.cut(mc_df.hips, bins, labels=labels)\n",
        "mc_df.hips"
      ],
      "execution_count": 96,
      "outputs": [
        {
          "output_type": "execute_result",
          "data": {
            "text/plain": [
              "0              M\n",
              "1             XS\n",
              "2        Unknown\n",
              "3        Unknown\n",
              "4        Unknown\n",
              "          ...   \n",
              "82785    Unknown\n",
              "82786    Unknown\n",
              "82787          S\n",
              "82788    Unknown\n",
              "82789          M\n",
              "Name: hips, Length: 82790, dtype: category\n",
              "Categories (6, object): ['Unknown' < 'XS' < 'S' < 'M' < 'L' < 'XL']"
            ]
          },
          "metadata": {
            "tags": []
          },
          "execution_count": 96
        }
      ]
    },
    {
      "cell_type": "code",
      "metadata": {
        "id": "g1-xksywQj0x"
      },
      "source": [
        "missing_length_rows= mc_df[mc_df['length'].isnull()].index\n",
        "mc_df.drop(missing_length_rows, axis=0, inplace=True)\n"
      ],
      "execution_count": 97,
      "outputs": []
    },
    {
      "cell_type": "code",
      "metadata": {
        "id": "Fy51IK4SSIGo"
      },
      "source": [
        "missing_quality_rows= mc_df[mc_df['quality'].isnull()].index\n",
        "mc_df.drop(missing_quality_rows, axis=0, inplace=True)\n",
        "mc_df.quality= mc_df.quality.astype('category').cat.as_ordered()"
      ],
      "execution_count": 98,
      "outputs": []
    },
    {
      "cell_type": "code",
      "metadata": {
        "colab": {
          "base_uri": "https://localhost:8080/"
        },
        "id": "ZTfRFTWxTCal",
        "outputId": "fc7a7b3c-c6a1-4998-8fbd-010c3ef27279"
      },
      "source": [
        "mc_df.info()"
      ],
      "execution_count": 99,
      "outputs": [
        {
          "output_type": "stream",
          "text": [
            "<class 'pandas.core.frame.DataFrame'>\n",
            "Int64Index: 82697 entries, 0 to 82789\n",
            "Data columns (total 19 columns):\n",
            " #   Column           Non-Null Count  Dtype   \n",
            "---  ------           --------------  -----   \n",
            " 0   item_id          82697 non-null  int64   \n",
            " 1   waist            2832 non-null   float64 \n",
            " 2   mc_size          82697 non-null  int64   \n",
            " 3   quality          82697 non-null  category\n",
            " 4   cup_size         82697 non-null  category\n",
            " 5   hips             82697 non-null  category\n",
            " 6   bra_size         82697 non-null  category\n",
            " 7   category         82697 non-null  category\n",
            " 8   bust             82697 non-null  int64   \n",
            " 9   height           81594 non-null  float64 \n",
            " 10  user_name        82697 non-null  object  \n",
            " 11  length           82697 non-null  object  \n",
            " 12  fit              82697 non-null  category\n",
            " 13  user_id          82697 non-null  int64   \n",
            " 14  shoe_size        27876 non-null  float64 \n",
            " 15  shoe_width       18581 non-null  object  \n",
            " 16  review_summary   75976 non-null  object  \n",
            " 17  review_text      75976 non-null  object  \n",
            " 18  first_time_user  82697 non-null  bool    \n",
            "dtypes: bool(1), category(6), float64(3), int64(4), object(5)\n",
            "memory usage: 8.8+ MB\n"
          ],
          "name": "stdout"
        }
      ]
    },
    {
      "cell_type": "code",
      "metadata": {
        "id": "RApuoR_lTHhr"
      },
      "source": [
        ""
      ],
      "execution_count": null,
      "outputs": []
    },
    {
      "cell_type": "code",
      "metadata": {
        "colab": {
          "base_uri": "https://localhost:8080/"
        },
        "id": "0aGgkgr-RppA",
        "outputId": "1c6de131-eb3e-4746-cc5a-897a5f894845"
      },
      "source": [
        "mc_df.isna().sum()"
      ],
      "execution_count": 100,
      "outputs": [
        {
          "output_type": "execute_result",
          "data": {
            "text/plain": [
              "item_id                0\n",
              "waist              79865\n",
              "mc_size                0\n",
              "quality                0\n",
              "cup_size               0\n",
              "hips                   0\n",
              "bra_size               0\n",
              "category               0\n",
              "bust                   0\n",
              "height              1103\n",
              "user_name              0\n",
              "length                 0\n",
              "fit                    0\n",
              "user_id                0\n",
              "shoe_size          54821\n",
              "shoe_width         64116\n",
              "review_summary      6721\n",
              "review_text         6721\n",
              "first_time_user        0\n",
              "dtype: int64"
            ]
          },
          "metadata": {
            "tags": []
          },
          "execution_count": 100
        }
      ]
    },
    {
      "cell_type": "markdown",
      "metadata": {
        "_uuid": "465f1a40eefa83a79f1db021b75e8fb574791f25",
        "id": "qac96-BvH39Y"
      },
      "source": [
        "* **review_summary/ review_text**- The NA values are there because these reviews are simply not provided by customers. Let's just fill those as 'Unknown'.\n",
        "* **shoe_size** -  Roughly 66.3% of the shoe_size data is missing. We will change the shoe_size into *category* dtype and fill the NA values as 'Unknown'.\n",
        "* **shoe_width** - Roughly 77.5% of the shoe_width data is missing. We will fill the NA values as 'Unknown' \n",
        "* **waist**- Waist column has the highest number of missing values - 96.5%! We will drop this column.\n",
        "* **bust**- 85.6% missing values and highly correlated to bra_size. Remove.\n",
        "* **user_name**- user_name itself is not needed with the user_id given. Remove.\n",
        "\n",
        "To convert shoe_width to an ordered category type we have to import CategoricalDType and supply the order of the categories."
      ]
    },
    {
      "cell_type": "code",
      "metadata": {
        "_kg_hide-input": true,
        "_kg_hide-output": false,
        "trusted": true,
        "_uuid": "a1c93638fff62c5f8a1855c65aa982b788b32c6a",
        "id": "ebNeTcSMH39Y"
      },
      "source": [
        "from pandas.api.types import CategoricalDtype\n",
        "shoe_widths_types=CategoricalDtype(categories=['Unknown', 'narrow', 'average', 'wide'], ordered=True)\n",
        "mc_df['review_summary']= mc_df['review_summary'].fillna('Unknown')\n",
        "mc_df['review_text']= mc_df['review_text'].fillna('Unknown')\n",
        "mc_df['shoe_size']= mc_df['shoe_size'].fillna('Unknown')\n",
        "mc_df['shoe_size']= mc_df['shoe_size'].astype('category').cat.as_ordered()\n",
        "mc_df['shoe_width']= mc_df['shoe_width'].fillna('Unknown')\n",
        "mc_df['shoe_width']= mc_df['shoe_width'].astype(shoe_widths_types)\n",
        "mc_df.drop(['waist', 'bust', 'user_name'], axis=1, inplace=True)"
      ],
      "execution_count": 101,
      "outputs": []
    },
    {
      "cell_type": "code",
      "metadata": {
        "trusted": true,
        "_uuid": "e80cf9bef4d5c67bfd3d5344056cdbea2c982202",
        "id": "BtdbuEh1H39e",
        "colab": {
          "base_uri": "https://localhost:8080/"
        },
        "outputId": "3af442fa-cf61-4cfe-c894-75b8366df710"
      },
      "source": [
        "mc_df.isnull().sum()"
      ],
      "execution_count": 104,
      "outputs": [
        {
          "output_type": "execute_result",
          "data": {
            "text/plain": [
              "item_id            0\n",
              "mc_size            0\n",
              "quality            0\n",
              "cup_size           0\n",
              "hips               0\n",
              "bra_size           0\n",
              "category           0\n",
              "height             0\n",
              "length             0\n",
              "fit                0\n",
              "user_id            0\n",
              "shoe_size          0\n",
              "shoe_width         0\n",
              "review_summary     0\n",
              "review_text        0\n",
              "first_time_user    0\n",
              "dtype: int64"
            ]
          },
          "metadata": {
            "tags": []
          },
          "execution_count": 104
        }
      ]
    },
    {
      "cell_type": "code",
      "metadata": {
        "id": "9gLlWHNWYHP_"
      },
      "source": [
        "missing_height_rows= mc_df[mc_df['height'].isnull()].index\n",
        "mc_df.drop(missing_height_rows, axis=0, inplace=True)"
      ],
      "execution_count": 103,
      "outputs": []
    },
    {
      "cell_type": "markdown",
      "metadata": {
        "_uuid": "17cd1c58dfe8132ab28a3a23262d0771f14f292e",
        "id": "9urOTHiNH39k"
      },
      "source": [
        "We can see that now there are no more missing values! We can move onto visualizing and gaining more insight about the data."
      ]
    },
    {
      "cell_type": "markdown",
      "metadata": {
        "_uuid": "f3c3a9576cf59e06180ff442fd49851e51d0a2ff",
        "id": "zNFc8RzCH39l"
      },
      "source": [
        "<a id=\"12\"></a>\n",
        "# EDA via visualizations\n",
        "\n",
        "<a id=\"13\"></a>\n",
        "<a id='dist_plots'></a>\n",
        "## 1. Distribution of different features over Modcloth dataset"
      ]
    },
    {
      "cell_type": "code",
      "metadata": {
        "trusted": true,
        "_kg_hide-input": true,
        "_uuid": "a3d7428e62614baf4f157e36e20b1db2bc125f06",
        "id": "RRBYEcIiH39m",
        "colab": {
          "base_uri": "https://localhost:8080/",
          "height": 717
        },
        "outputId": "0edccb47-c454-4108-88c9-f34ed1c52136"
      },
      "source": [
        "def plot_dist(col, ax):\n",
        "  if col!='height':\n",
        "    mc_df[col].value_counts().plot(kind='bar', ax=ax)\n",
        "  else:\n",
        "    mc_df[col].plot(kind='density', ax=ax)\n",
        "  ax.set_xlabel(f\"{col}\")\n",
        "  ax.set_title(f\"{col} on Modcloth\")\n",
        "  return ax\n",
        "fig, ax= plt.subplots(4, 3, figsize=(22, 15))\n",
        "fig.tight_layout(h_pad=9, w_pad=2, rect=[0,0.03, 1, 0.93])\n",
        "cols=['bra_size', 'category', 'cup_size', 'fit', 'height', 'hips', 'length', 'quality', 'shoe_size', 'shoe_width']\n",
        "k=0\n",
        "for i in range(4):\n",
        "  for j in range(3):\n",
        "    try:\n",
        "      plot_dist(cols[k], ax[i][j])\n",
        "    except:\n",
        "      pass\n",
        "    k=k+1\n",
        "plt.suptitle('Final distributions of different features on modcloth dataset', fontsize=25)\n",
        "plt.show()"
      ],
      "execution_count": 109,
      "outputs": [
        {
          "output_type": "display_data",
          "data": {
            "image/png": "[encoded data removed]",
            "text/plain": [
              "<Figure size 1584x1080 with 12 Axes>"
            ]
          },
          "metadata": {
            "tags": [],
            "needs_background": "light"
          }
        }
      ]
    },
    {
      "cell_type": "markdown",
      "metadata": {
        "_uuid": "7806ad1d954282a39611294b93286ef0040d21c7",
        "id": "D9Wnyn5HH39p"
      },
      "source": [
        "## 2. Categories vs. Fit$/$Length$/$Quality\n",
        "Here, we will visualize how the items of different categories fared in terms of - fit, length, and quality. This will tell Modcloth which categories need more attention! \n",
        "\n",
        "I have plotted 2 distributions in categories here:\n",
        "\n",
        "**1. Unnormalized**- viewing the frequency counts directly- for comparison across categories. We also include the best fit, length, or quality measure in this plot.\n",
        "\n",
        "**2. Normalized** -  viewing the distribution for the category after normalizing the counts, amongst the category itself- it will help us compare what are major reason for return amongst the category itself. We exclude the best sizing & quality measures, so as to focus on the pre-dominant reasons of return per category (if any)."
      ]
    },
    {
      "cell_type": "code",
      "metadata": {
        "_kg_hide-input": true,
        "trusted": true,
        "_uuid": "4186f84725284c59a349d7329e7560990f29bace",
        "id": "iPa-gtCgH39p"
      },
      "source": [
        "def plot_barh(df, col, stacked):\n",
        "  df.plot(kind='barh', stacked=stacked)\n",
        "  fig= plt.figure(figsize(24,12))\n",
        "  plt.xlabel('Frequency')\n",
        "  plt.ylabel('Category')\n",
        "  plt.title('Title')"
      ],
      "execution_count": null,
      "outputs": []
    },
    {
      "cell_type": "code",
      "metadata": {
        "_kg_hide-input": true,
        "trusted": true,
        "_uuid": "be31b4588322656b16d40d14960b8b392c14c034",
        "_kg_hide-output": true,
        "id": "OiS6mWZCH39y"
      },
      "source": [
        ""
      ],
      "execution_count": null,
      "outputs": []
    },
    {
      "cell_type": "markdown",
      "metadata": {
        "_uuid": "2825ba3e29290c7a8ab3d66456309a5a27d521ff",
        "id": "JqOnxtzfH393"
      },
      "source": [
        "- **Category vs. Fit**"
      ]
    },
    {
      "cell_type": "code",
      "metadata": {
        "_kg_hide-input": true,
        "trusted": true,
        "_uuid": "15f7c5ac2895b31546dd0e6a311f98e2f59f3e2c",
        "id": "q6mmLbJsH394"
      },
      "source": [
        ""
      ],
      "execution_count": null,
      "outputs": []
    },
    {
      "cell_type": "markdown",
      "metadata": {
        "_uuid": "bedf315b5e7b76915628ae4c3a8927c99eb6069f",
        "id": "eueNhPzYH397"
      },
      "source": [
        "Observations:\n",
        "* Best-fit response (*fit*) has been highest for *new, dresses, and tops* categories. \n",
        "* Overall maximum bad fit-feedback has belonged mostly to 2 categories- *new and tops*! *Dresses and bottoms* categories follow. \n",
        "* *Weddings, outerwear, and sale* are not prominent in our visualization- mostly due to the lack of transactions in these categories."
      ]
    },
    {
      "cell_type": "code",
      "metadata": {
        "_kg_hide-input": true,
        "trusted": true,
        "_uuid": "e25d8f48184a88f604ec71938f0560f49a920c49",
        "id": "U7Cs_DPDH398"
      },
      "source": [
        ""
      ],
      "execution_count": null,
      "outputs": []
    },
    {
      "cell_type": "markdown",
      "metadata": {
        "_uuid": "ec2818e3e8286dbd4a39f4906318e0f9415e650c",
        "id": "vAeb4hySH3-E"
      },
      "source": [
        "Here, we can see that amongst the categories themselves:\n",
        "* Wedding, tops, & outerwear categories usually have more returns due to large sizing.\n",
        "* New, sale, & bottoms usually have frequent returns due to small sized buys.\n",
        "* Dresses has similar return reasons, in terms of fit."
      ]
    },
    {
      "cell_type": "markdown",
      "metadata": {
        "_uuid": "8115206e8059e0b74dc4b71d72621511d3a644d3",
        "id": "zZXcevMHH3-F"
      },
      "source": [
        "- **Category vs Length**"
      ]
    },
    {
      "cell_type": "code",
      "metadata": {
        "_kg_hide-input": true,
        "trusted": true,
        "_uuid": "ec32b19f18c1de5ac894581670b71b3c68bc6f98",
        "id": "piNIXYvTH3-G"
      },
      "source": [
        ""
      ],
      "execution_count": null,
      "outputs": []
    },
    {
      "cell_type": "markdown",
      "metadata": {
        "_uuid": "fca5926ad5a528f3b5113b0bc4c43b4a2850a73a",
        "id": "YkzobBHoH3-K"
      },
      "source": [
        "* Best length-fitting ('just right') belongs to tops, new, dresses and bottoms! (Also due to predominance of these categories in our total transactions- **they make up almost 92% of our transactions!**)\n",
        "* All transactions share a similar order of reasons for return (in the order of importance), which is kind of intuitive as well:\n",
        "    * slightly long\n",
        "    * slightly short\n",
        "    * very long\n",
        "    * very short"
      ]
    },
    {
      "cell_type": "code",
      "metadata": {
        "_kg_hide-input": true,
        "trusted": true,
        "_uuid": "5db2211018473c9ddef2f7280087775de869065e",
        "id": "_-SdsmoHH3-L"
      },
      "source": [
        ""
      ],
      "execution_count": null,
      "outputs": []
    },
    {
      "cell_type": "markdown",
      "metadata": {
        "_uuid": "238cd4200ab0d770d564c4c20b933289fbd46e72",
        "id": "X3Ijy_G6H3-S"
      },
      "source": [
        "The normalized plot, focusing on the problems allows us to dig deeper into length-wise reasons of return per category:\n",
        "* Customers tend to make 'slightly long' purchases in *bottoms, new, sale, & tops* categories.\n",
        "* 'slightly short' returns take place mostly in *dresses and wedding * categories."
      ]
    },
    {
      "cell_type": "markdown",
      "metadata": {
        "_uuid": "bbb3ab640bd28e5b6b3acb9fc67b18d41acf19bd",
        "id": "9l44mGR-H3-U"
      },
      "source": [
        "- **Category vs Quality**"
      ]
    },
    {
      "cell_type": "code",
      "metadata": {
        "_kg_hide-input": true,
        "trusted": true,
        "_uuid": "0384115040f3a7a3db523c6514eb7af122814252",
        "id": "x-lv5bdOH3-V"
      },
      "source": [
        ""
      ],
      "execution_count": null,
      "outputs": []
    },
    {
      "cell_type": "markdown",
      "metadata": {
        "_uuid": "a34e6b6036d995a1391b05190805d9d8dd478c03",
        "id": "AE9V8TQLH3-a"
      },
      "source": [
        "* Almost the same share of people have rated the categories of *tops, new, dresses, & bottoms* as 5, 4, & 3.\n",
        "* All the trends in terms of share of ratings seems to be constant across categories."
      ]
    },
    {
      "cell_type": "code",
      "metadata": {
        "trusted": true,
        "_uuid": "860f86858c68db89e5c7001d2d8a83799f5edc03",
        "_kg_hide-input": true,
        "id": "n3fMHtY_H3-b"
      },
      "source": [
        ""
      ],
      "execution_count": null,
      "outputs": []
    },
    {
      "cell_type": "markdown",
      "metadata": {
        "_uuid": "5803a4a47c7ed5a52d6797a20b7751d5f8c47d8e",
        "id": "6OxkvEfRH3-g"
      },
      "source": [
        "* Here also we can assert our previous observation that all the categories share similar share of ratings.\n",
        "* To nitpick- *new , sale & tops* seem to have a higher share than normal of bad ratings (1.0 & 2.0) in terms of quality."
      ]
    },
    {
      "cell_type": "markdown",
      "metadata": {
        "_uuid": "b4bbc0ffe09e2eae2350990c765b4f8edc881dee",
        "id": "83NxIiaAH3-i"
      },
      "source": [
        "<a id=\"15\"></a>\n",
        "### 2. Total Number of Users vs Total Number of items bought\n",
        "Visualizing the total number of users who bought *x* number of items, where we affirm the author's [[1]](#references) statement that the data is very sparse with a major chunk (38.45%) of the users who bought only 1 item from the website during the time this data was collected. "
      ]
    },
    {
      "cell_type": "code",
      "metadata": {
        "_kg_hide-input": true,
        "trusted": true,
        "_uuid": "bae1fca79ae4f68ca553b3c4a69f051102651eda",
        "id": "Q5DenllIH3-j"
      },
      "source": [
        "total_users=[]\n",
        "items_bought=[]\n",
        "for i in range(min(mc_df.user_id.value_counts()), (max(mc_df.user_id.value_counts())+1)):\n",
        "  all_users= sum(mc_df.user_id.value_counts()==i)\n",
        "  if all_users!=0:\n",
        "    total_users.append(all_users)\n",
        "    items_bought.append(i)\n"
      ],
      "execution_count": 113,
      "outputs": []
    },
    {
      "cell_type": "code",
      "metadata": {
        "colab": {
          "base_uri": "https://localhost:8080/",
          "height": 627
        },
        "id": "goBtz2Tnhgfz",
        "outputId": "ba91cea0-89c0-4803-8633-a2b4a352d10d"
      },
      "source": [
        "import seaborn as sns\n",
        "sns.set()\n",
        "plt.figure(figsize=(16,10))\n",
        "sns.barplot(x=items_bought, y= total_users, color='r')\n",
        "plt.xlabel('Number of items bought')\n",
        "plt.ylabel('Number of users')\n",
        "plt.title('Number of users vs Number of items bought')\n",
        "plt.show()"
      ],
      "execution_count": 114,
      "outputs": [
        {
          "output_type": "display_data",
          "data": {
            "image/png": "[encoded data removed]",
            "text/plain": [
              "<Figure size 1152x720 with 1 Axes>"
            ]
          },
          "metadata": {
            "tags": []
          }
        }
      ]
    },
    {
      "cell_type": "markdown",
      "metadata": {
        "_uuid": "913fd8a7a6b1aa8eeeb6e52a4f7bb1791328ddc8",
        "id": "WfrdmxndH3-q"
      },
      "source": [
        "* A **major chunk of the users (~40%) have only bought 1 item from Modcloth** during the time this data was collected. Although we found only 903 out of those were first time users (no previous data existed of these customers). This explains and reaffirms the dataset curator's statement about sparsity of the data.\n",
        "* Most users bought 1, 2, or 3 products from Modcloth out of the ~80,000 transactions in this dataset."
      ]
    },
    {
      "cell_type": "markdown",
      "metadata": {
        "_uuid": "10959acc07b36401767918be8e33a19937dc68ee",
        "id": "BMTNiGcRH3-s"
      },
      "source": [
        "<a id=\"16\"></a>\n",
        "## 3. Height vs shoe_size -  Modcloth customers\n",
        "It would be interesting to see if there exists a linear relation between the height of a person and their shoe-size, i.e.- it will mean shoe-size increases with increase in height!"
      ]
    },
    {
      "cell_type": "code",
      "metadata": {
        "_kg_hide-input": true,
        "trusted": true,
        "_uuid": "ff6cbdacc0c79f822bbaa46b2c647bdee201f3c4",
        "id": "GcXVBjZnH3-t",
        "colab": {
          "base_uri": "https://localhost:8080/",
          "height": 530
        },
        "outputId": "1312aee9-6ebf-4021-9230-2206b91654ca"
      },
      "source": [
        "plt.figure(figsize=(20,10))\n",
        "sns.violinplot(x='shoe_size', y='height', data=mc_df)\n",
        "plt.show()"
      ],
      "execution_count": 115,
      "outputs": [
        {
          "output_type": "display_data",
          "data": {
            "image/png": "[encoded data removed]",
            "text/plain": [
              "<Figure size 1440x720 with 1 Axes>"
            ]
          },
          "metadata": {
            "tags": []
          }
        }
      ]
    },
    {
      "cell_type": "markdown",
      "metadata": {
        "_uuid": "5a4e2fa1f3cdb4f51d7cc3425c72e4fe1dda0cc6",
        "id": "V5qkMxkuH3-0"
      },
      "source": [
        "We can see here a \"linear correlation between foot size and height\". This observation was also seen [here](https://www.statcrunch.com/5.0/viewreport.php?reportid=35115)."
      ]
    }
  ]
}