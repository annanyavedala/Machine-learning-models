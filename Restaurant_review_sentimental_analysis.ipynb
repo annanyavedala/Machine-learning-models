{
 "cells": [
  {
   "cell_type": "code",
   "execution_count": 75,
   "metadata": {},
   "outputs": [],
   "source": [
    "import numpy as np\n",
    "import pandas as pd\n",
    "import matplotlib.pyplot as plt"
   ]
  },
  {
   "cell_type": "code",
   "execution_count": 76,
   "metadata": {},
   "outputs": [],
   "source": [
    "dataset= pd.read_csv('Restaurant_Reviews.tsv', delimiter='\\t', quoting=3)"
   ]
  },
  {
   "cell_type": "code",
   "execution_count": 77,
   "metadata": {},
   "outputs": [
    {
     "name": "stderr",
     "output_type": "stream",
     "text": [
      "[nltk_data] Downloading package stopwords to\n",
      "[nltk_data]     /Users/annanya/nltk_data...\n",
      "[nltk_data]   Package stopwords is already up-to-date!\n"
     ]
    }
   ],
   "source": [
    "import re\n",
    "import nltk\n",
    "from nltk.corpus import stopwords\n",
    "nltk.download('stopwords')\n",
    "from nltk.stem.porter import PorterStemmer"
   ]
  },
  {
   "cell_type": "code",
   "execution_count": 95,
   "metadata": {},
   "outputs": [],
   "source": [
    "c=[]\n",
    "for i in range(0,1000):\n",
    "    review= re.sub('[^a-zA-Z]', ' ', dataset['Review'][i])\n",
    "    review= review.lower()\n",
    "    review= review.split()\n",
    "    review=[word for word in review if not word in set(stopwords.words('english'))]\n",
    "    ps= PorterStemmer()\n",
    "    review= [ps.stem(word) for word in review if not word in set(stopwords.words('english'))]\n",
    "    review=' '.join(review)\n",
    "    c.append(review)"
   ]
  },
  {
   "cell_type": "code",
   "execution_count": 96,
   "metadata": {},
   "outputs": [
    {
     "data": {
      "text/plain": [
       "(1000, 2)"
      ]
     },
     "execution_count": 96,
     "metadata": {},
     "output_type": "execute_result"
    }
   ],
   "source": [
    "dataset.shape"
   ]
  },
  {
   "cell_type": "code",
   "execution_count": 97,
   "metadata": {},
   "outputs": [],
   "source": [
    "from sklearn.feature_extraction.text import CountVectorizer\n",
    "cv= CountVectorizer(max_features=1500)\n",
    "x= cv.fit_transform(c).toarray()\n",
    "y= dataset.iloc[:,-1].values"
   ]
  },
  {
   "cell_type": "code",
   "execution_count": 98,
   "metadata": {},
   "outputs": [],
   "source": [
    "from sklearn.model_selection import train_test_split"
   ]
  },
  {
   "cell_type": "code",
   "execution_count": 99,
   "metadata": {},
   "outputs": [],
   "source": [
    "x_train, x_test, y_train, y_test= train_test_split(x, y, test_size=0.20, random_state=0)"
   ]
  },
  {
   "cell_type": "code",
   "execution_count": 100,
   "metadata": {},
   "outputs": [
    {
     "data": {
      "text/plain": [
       "(800, 1500)"
      ]
     },
     "execution_count": 100,
     "metadata": {},
     "output_type": "execute_result"
    }
   ],
   "source": [
    "x_train.shape"
   ]
  },
  {
   "cell_type": "code",
   "execution_count": 101,
   "metadata": {},
   "outputs": [
    {
     "data": {
      "text/plain": [
       "(200, 1500)"
      ]
     },
     "execution_count": 101,
     "metadata": {},
     "output_type": "execute_result"
    }
   ],
   "source": [
    "x_test.shape"
   ]
  },
  {
   "cell_type": "code",
   "execution_count": 102,
   "metadata": {},
   "outputs": [],
   "source": [
    "import keras"
   ]
  },
  {
   "cell_type": "code",
   "execution_count": 103,
   "metadata": {},
   "outputs": [],
   "source": [
    "from keras.models import Sequential\n",
    "from keras.layers import Dense"
   ]
  },
  {
   "cell_type": "code",
   "execution_count": 104,
   "metadata": {},
   "outputs": [],
   "source": [
    "model= Sequential()"
   ]
  },
  {
   "cell_type": "code",
   "execution_count": 105,
   "metadata": {
    "scrolled": true
   },
   "outputs": [
    {
     "name": "stderr",
     "output_type": "stream",
     "text": [
      "/usr/local/lib/python3.7/site-packages/ipykernel_launcher.py:1: UserWarning: Update your `Dense` call to the Keras 2 API: `Dense(units=1500, activation=\"sigmoid\", kernel_initializer=\"random_uniform\")`\n",
      "  \"\"\"Entry point for launching an IPython kernel.\n",
      "/usr/local/lib/python3.7/site-packages/ipykernel_launcher.py:2: UserWarning: Update your `Dense` call to the Keras 2 API: `Dense(units=1000, activation=\"sigmoid\", kernel_initializer=\"random_uniform\")`\n",
      "  \n",
      "/usr/local/lib/python3.7/site-packages/ipykernel_launcher.py:3: UserWarning: Update your `Dense` call to the Keras 2 API: `Dense(units=1, activation=\"sigmoid\", kernel_initializer=\"random_uniform\")`\n",
      "  This is separate from the ipykernel package so we can avoid doing imports until\n"
     ]
    },
    {
     "name": "stdout",
     "output_type": "stream",
     "text": [
      "Epoch 1/50\n",
      "800/800 [==============================] - 5s 6ms/step - loss: 0.8695 - accuracy: 0.4925\n",
      "Epoch 2/50\n",
      "800/800 [==============================] - 4s 5ms/step - loss: 0.6856 - accuracy: 0.5663\n",
      "Epoch 3/50\n",
      "800/800 [==============================] - 4s 6ms/step - loss: 0.6034 - accuracy: 0.6625\n",
      "Epoch 4/50\n",
      "800/800 [==============================] - 4s 6ms/step - loss: 0.3254 - accuracy: 0.8725\n",
      "Epoch 5/50\n",
      "800/800 [==============================] - 4s 6ms/step - loss: 0.2307 - accuracy: 0.8988\n",
      "Epoch 6/50\n",
      "800/800 [==============================] - 4s 6ms/step - loss: 0.1592 - accuracy: 0.9337\n",
      "Epoch 7/50\n",
      "800/800 [==============================] - 4s 6ms/step - loss: 0.1011 - accuracy: 0.9638\n",
      "Epoch 8/50\n",
      "800/800 [==============================] - 4s 6ms/step - loss: 0.1054 - accuracy: 0.9588\n",
      "Epoch 9/50\n",
      "800/800 [==============================] - 5s 6ms/step - loss: 0.0672 - accuracy: 0.9688\n",
      "Epoch 10/50\n",
      "800/800 [==============================] - 4s 6ms/step - loss: 0.0762 - accuracy: 0.9663\n",
      "Epoch 11/50\n",
      "800/800 [==============================] - 5s 6ms/step - loss: 0.0521 - accuracy: 0.9775\n",
      "Epoch 12/50\n",
      "800/800 [==============================] - 7s 9ms/step - loss: 0.0538 - accuracy: 0.9800\n",
      "Epoch 13/50\n",
      "800/800 [==============================] - 6s 7ms/step - loss: 0.0456 - accuracy: 0.9825\n",
      "Epoch 14/50\n",
      "800/800 [==============================] - 5s 6ms/step - loss: 0.0567 - accuracy: 0.9812\n",
      "Epoch 15/50\n",
      "800/800 [==============================] - 6s 7ms/step - loss: 0.0819 - accuracy: 0.9675\n",
      "Epoch 16/50\n",
      "800/800 [==============================] - 6s 7ms/step - loss: 0.0462 - accuracy: 0.9837: 0s - los\n",
      "Epoch 17/50\n",
      "800/800 [==============================] - 8s 9ms/step - loss: 0.0682 - accuracy: 0.9775\n",
      "Epoch 18/50\n",
      "800/800 [==============================] - 7s 9ms/step - loss: 0.0429 - accuracy: 0.9837\n",
      "Epoch 19/50\n",
      "800/800 [==============================] - 6s 8ms/step - loss: 0.0428 - accuracy: 0.9850\n",
      "Epoch 20/50\n",
      "800/800 [==============================] - 7s 9ms/step - loss: 0.0376 - accuracy: 0.9862\n",
      "Epoch 21/50\n",
      "800/800 [==============================] - 5s 7ms/step - loss: 0.0507 - accuracy: 0.9825\n",
      "Epoch 22/50\n",
      "800/800 [==============================] - 7s 9ms/step - loss: 0.0670 - accuracy: 0.9775\n",
      "Epoch 23/50\n",
      "800/800 [==============================] - 6s 7ms/step - loss: 0.0311 - accuracy: 0.9850\n",
      "Epoch 24/50\n",
      "800/800 [==============================] - 6s 8ms/step - loss: 0.0319 - accuracy: 0.9887\n",
      "Epoch 25/50\n",
      "800/800 [==============================] - 6s 7ms/step - loss: 0.0446 - accuracy: 0.9837\n",
      "Epoch 26/50\n",
      "800/800 [==============================] - 6s 7ms/step - loss: 0.0302 - accuracy: 0.9837\n",
      "Epoch 27/50\n",
      "800/800 [==============================] - 7s 9ms/step - loss: 0.0320 - accuracy: 0.9862\n",
      "Epoch 28/50\n",
      "800/800 [==============================] - 5s 6ms/step - loss: 0.0361 - accuracy: 0.9850\n",
      "Epoch 29/50\n",
      "800/800 [==============================] - 5s 6ms/step - loss: 0.0347 - accuracy: 0.9900\n",
      "Epoch 30/50\n",
      "800/800 [==============================] - 5s 7ms/step - loss: 0.0320 - accuracy: 0.9887\n",
      "Epoch 31/50\n",
      "800/800 [==============================] - 5s 6ms/step - loss: 0.0367 - accuracy: 0.9862\n",
      "Epoch 32/50\n",
      "800/800 [==============================] - 5s 6ms/step - loss: 0.0338 - accuracy: 0.9850\n",
      "Epoch 33/50\n",
      "800/800 [==============================] - 5s 7ms/step - loss: 0.0426 - accuracy: 0.9837\n",
      "Epoch 34/50\n",
      "800/800 [==============================] - 5s 6ms/step - loss: 0.0302 - accuracy: 0.9887\n",
      "Epoch 35/50\n",
      "800/800 [==============================] - 5s 6ms/step - loss: 0.0253 - accuracy: 0.9900\n",
      "Epoch 36/50\n",
      "800/800 [==============================] - 5s 7ms/step - loss: 0.0328 - accuracy: 0.9850\n",
      "Epoch 37/50\n",
      "800/800 [==============================] - 5s 6ms/step - loss: 0.0329 - accuracy: 0.9887\n",
      "Epoch 38/50\n",
      "800/800 [==============================] - 5s 6ms/step - loss: 0.0302 - accuracy: 0.9862\n",
      "Epoch 39/50\n",
      "800/800 [==============================] - 5s 6ms/step - loss: 0.0276 - accuracy: 0.9925\n",
      "Epoch 40/50\n",
      "800/800 [==============================] - 5s 6ms/step - loss: 0.0343 - accuracy: 0.9862\n",
      "Epoch 41/50\n",
      "800/800 [==============================] - 6s 8ms/step - loss: 0.0397 - accuracy: 0.9862\n",
      "Epoch 42/50\n",
      "800/800 [==============================] - 6s 8ms/step - loss: 0.0538 - accuracy: 0.9737\n",
      "Epoch 43/50\n",
      "800/800 [==============================] - 5s 7ms/step - loss: 0.0246 - accuracy: 0.9925\n",
      "Epoch 44/50\n",
      "800/800 [==============================] - 5s 7ms/step - loss: 0.0391 - accuracy: 0.9875\n",
      "Epoch 45/50\n",
      "800/800 [==============================] - 5s 6ms/step - loss: 0.0305 - accuracy: 0.9912\n",
      "Epoch 46/50\n",
      "800/800 [==============================] - 5s 7ms/step - loss: 0.0251 - accuracy: 0.9900\n",
      "Epoch 47/50\n",
      "800/800 [==============================] - 5s 6ms/step - loss: 0.0466 - accuracy: 0.9837\n",
      "Epoch 48/50\n",
      "800/800 [==============================] - 5s 7ms/step - loss: 0.0295 - accuracy: 0.9887\n",
      "Epoch 49/50\n",
      "800/800 [==============================] - 5s 7ms/step - loss: 0.0264 - accuracy: 0.9900\n",
      "Epoch 50/50\n",
      "800/800 [==============================] - 5s 7ms/step - loss: 0.0321 - accuracy: 0.9900\n"
     ]
    },
    {
     "data": {
      "text/plain": [
       "<keras.callbacks.callbacks.History at 0x137912a50>"
      ]
     },
     "execution_count": 105,
     "metadata": {},
     "output_type": "execute_result"
    }
   ],
   "source": [
    "model.add(Dense(units=1500, init='random_uniform', activation='sigmoid'))\n",
    "model.add(Dense(units=1000, init='random_uniform', activation='sigmoid'))\n",
    "model.add(Dense(units=1, init='random_uniform', activation='sigmoid'))\n",
    "model.compile(optimizer='adam', loss='binary_crossentropy', metrics=['accuracy'])\n",
    "model.fit(x_train, y_train, batch_size=10, epochs=50 )"
   ]
  },
  {
   "cell_type": "code",
   "execution_count": 106,
   "metadata": {},
   "outputs": [
    {
     "data": {
      "text/plain": [
       "array([[False],\n",
       "       [False],\n",
       "       [False],\n",
       "       [False],\n",
       "       [False],\n",
       "       [False],\n",
       "       [ True],\n",
       "       [False],\n",
       "       [False],\n",
       "       [ True],\n",
       "       [False],\n",
       "       [ True],\n",
       "       [ True],\n",
       "       [ True],\n",
       "       [ True],\n",
       "       [ True],\n",
       "       [ True],\n",
       "       [False],\n",
       "       [False],\n",
       "       [ True],\n",
       "       [False],\n",
       "       [False],\n",
       "       [ True],\n",
       "       [ True],\n",
       "       [ True],\n",
       "       [ True],\n",
       "       [False],\n",
       "       [ True],\n",
       "       [ True],\n",
       "       [False],\n",
       "       [ True],\n",
       "       [ True],\n",
       "       [ True],\n",
       "       [ True],\n",
       "       [ True],\n",
       "       [False],\n",
       "       [False],\n",
       "       [False],\n",
       "       [False],\n",
       "       [ True],\n",
       "       [ True],\n",
       "       [ True],\n",
       "       [ True],\n",
       "       [False],\n",
       "       [False],\n",
       "       [False],\n",
       "       [ True],\n",
       "       [ True],\n",
       "       [False],\n",
       "       [False],\n",
       "       [ True],\n",
       "       [ True],\n",
       "       [False],\n",
       "       [ True],\n",
       "       [False],\n",
       "       [False],\n",
       "       [False],\n",
       "       [False],\n",
       "       [False],\n",
       "       [ True],\n",
       "       [False],\n",
       "       [False],\n",
       "       [ True],\n",
       "       [ True],\n",
       "       [ True],\n",
       "       [False],\n",
       "       [ True],\n",
       "       [False],\n",
       "       [False],\n",
       "       [False],\n",
       "       [ True],\n",
       "       [ True],\n",
       "       [False],\n",
       "       [False],\n",
       "       [False],\n",
       "       [False],\n",
       "       [ True],\n",
       "       [False],\n",
       "       [False],\n",
       "       [ True],\n",
       "       [ True],\n",
       "       [ True],\n",
       "       [ True],\n",
       "       [False],\n",
       "       [ True],\n",
       "       [ True],\n",
       "       [ True],\n",
       "       [False],\n",
       "       [ True],\n",
       "       [ True],\n",
       "       [False],\n",
       "       [ True],\n",
       "       [False],\n",
       "       [False],\n",
       "       [False],\n",
       "       [False],\n",
       "       [False],\n",
       "       [ True],\n",
       "       [False],\n",
       "       [ True],\n",
       "       [False],\n",
       "       [ True],\n",
       "       [ True],\n",
       "       [ True],\n",
       "       [False],\n",
       "       [ True],\n",
       "       [ True],\n",
       "       [ True],\n",
       "       [False],\n",
       "       [False],\n",
       "       [False],\n",
       "       [False],\n",
       "       [False],\n",
       "       [ True],\n",
       "       [False],\n",
       "       [False],\n",
       "       [ True],\n",
       "       [ True],\n",
       "       [ True],\n",
       "       [ True],\n",
       "       [False],\n",
       "       [False],\n",
       "       [ True],\n",
       "       [ True],\n",
       "       [False],\n",
       "       [False],\n",
       "       [ True],\n",
       "       [False],\n",
       "       [False],\n",
       "       [False],\n",
       "       [False],\n",
       "       [ True],\n",
       "       [False],\n",
       "       [False],\n",
       "       [ True],\n",
       "       [ True],\n",
       "       [False],\n",
       "       [ True],\n",
       "       [ True],\n",
       "       [False],\n",
       "       [False],\n",
       "       [ True],\n",
       "       [False],\n",
       "       [False],\n",
       "       [False],\n",
       "       [False],\n",
       "       [False],\n",
       "       [False],\n",
       "       [ True],\n",
       "       [ True],\n",
       "       [ True],\n",
       "       [False],\n",
       "       [ True],\n",
       "       [ True],\n",
       "       [ True],\n",
       "       [False],\n",
       "       [ True],\n",
       "       [False],\n",
       "       [ True],\n",
       "       [ True],\n",
       "       [False],\n",
       "       [False],\n",
       "       [ True],\n",
       "       [ True],\n",
       "       [ True],\n",
       "       [False],\n",
       "       [False],\n",
       "       [False],\n",
       "       [False],\n",
       "       [False],\n",
       "       [False],\n",
       "       [ True],\n",
       "       [ True],\n",
       "       [False],\n",
       "       [False],\n",
       "       [False],\n",
       "       [False],\n",
       "       [ True],\n",
       "       [False],\n",
       "       [False],\n",
       "       [ True],\n",
       "       [ True],\n",
       "       [False],\n",
       "       [ True],\n",
       "       [False],\n",
       "       [ True],\n",
       "       [False],\n",
       "       [False],\n",
       "       [False],\n",
       "       [ True],\n",
       "       [ True],\n",
       "       [False],\n",
       "       [False],\n",
       "       [ True],\n",
       "       [ True],\n",
       "       [False],\n",
       "       [ True],\n",
       "       [ True],\n",
       "       [False],\n",
       "       [ True]])"
      ]
     },
     "execution_count": 106,
     "metadata": {},
     "output_type": "execute_result"
    }
   ],
   "source": [
    "y_pred= model.predict(x_test)\n",
    "y_pred= y_pred>0.5\n",
    "y_pred"
   ]
  },
  {
   "cell_type": "code",
   "execution_count": 107,
   "metadata": {},
   "outputs": [
    {
     "data": {
      "text/plain": [
       "array([[74, 23],\n",
       "       [31, 72]])"
      ]
     },
     "execution_count": 107,
     "metadata": {},
     "output_type": "execute_result"
    }
   ],
   "source": [
    "from sklearn.metrics import confusion_matrix, accuracy_score\n",
    "cm= confusion_matrix(y_test, y_pred)\n",
    "cm"
   ]
  },
  {
   "cell_type": "code",
   "execution_count": 108,
   "metadata": {},
   "outputs": [
    {
     "data": {
      "text/plain": [
       "0.73"
      ]
     },
     "execution_count": 108,
     "metadata": {},
     "output_type": "execute_result"
    }
   ],
   "source": [
    "a= accuracy_score(y_test, y_pred)\n",
    "a"
   ]
  },
  {
   "cell_type": "code",
   "execution_count": 109,
   "metadata": {},
   "outputs": [],
   "source": [
    "model.save('sentimental_analysis.h5')"
   ]
  },
  {
   "cell_type": "code",
   "execution_count": null,
   "metadata": {},
   "outputs": [],
   "source": []
  }
 ],
 "metadata": {
  "kernelspec": {
   "display_name": "Python 3",
   "language": "python",
   "name": "python3"
  },
  "language_info": {
   "codemirror_mode": {
    "name": "ipython",
    "version": 3
   },
   "file_extension": ".py",
   "mimetype": "text/x-python",
   "name": "python",
   "nbconvert_exporter": "python",
   "pygments_lexer": "ipython3",
   "version": "3.7.7"
  }
 },
 "nbformat": 4,
 "nbformat_minor": 4
}
